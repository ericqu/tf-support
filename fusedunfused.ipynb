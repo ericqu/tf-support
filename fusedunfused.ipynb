{
  "nbformat": 4,
  "nbformat_minor": 0,
  "metadata": {
    "colab": {
      "name": "fusedunfused",
      "provenance": [],
      "collapsed_sections": [],
      "authorship_tag": "ABX9TyN+ebNAtamAyOzsoSYMhXSU",
      "include_colab_link": true
    },
    "kernelspec": {
      "name": "python3",
      "display_name": "Python 3"
    }
  },
  "cells": [
    {
      "cell_type": "markdown",
      "metadata": {
        "id": "view-in-github",
        "colab_type": "text"
      },
      "source": [
        "<a href=\"https://colab.research.google.com/github/ericqu/tf-support/blob/master/fusedunfused.ipynb\" target=\"_parent\"><img src=\"https://colab.research.google.com/assets/colab-badge.svg\" alt=\"Open In Colab\"/></a>"
      ]
    },
    {
      "cell_type": "code",
      "metadata": {
        "id": "Icg-T6bZ2rWQ",
        "colab_type": "code",
        "colab": {
          "base_uri": "https://localhost:8080/",
          "height": 734
        },
        "outputId": "bb302ca0-ebbc-4277-b56f-cbbec958a1a6"
      },
      "source": [
        "#for issue 40510\n",
        "!pip install tf-nightly\n",
        "!pip install tensorflow-model-optimization\n"
      ],
      "execution_count": 1,
      "outputs": [
        {
          "output_type": "stream",
          "text": [
            "Requirement already satisfied: tf-nightly in /usr/local/lib/python3.6/dist-packages (2.3.0.dev20200618)\n",
            "Requirement already satisfied: keras-preprocessing<1.2,>=1.1.1 in /usr/local/lib/python3.6/dist-packages (from tf-nightly) (1.1.2)\n",
            "Requirement already satisfied: astunparse==1.6.3 in /usr/local/lib/python3.6/dist-packages (from tf-nightly) (1.6.3)\n",
            "Requirement already satisfied: numpy<2.0,>=1.16.0 in /usr/local/lib/python3.6/dist-packages (from tf-nightly) (1.18.5)\n",
            "Requirement already satisfied: wrapt>=1.11.1 in /usr/local/lib/python3.6/dist-packages (from tf-nightly) (1.12.1)\n",
            "Requirement already satisfied: wheel>=0.26 in /usr/local/lib/python3.6/dist-packages (from tf-nightly) (0.34.2)\n",
            "Requirement already satisfied: tb-nightly<2.4.0a0,>=2.3.0a0 in /usr/local/lib/python3.6/dist-packages (from tf-nightly) (2.3.0a20200618)\n",
            "Requirement already satisfied: six>=1.12.0 in /usr/local/lib/python3.6/dist-packages (from tf-nightly) (1.12.0)\n",
            "Requirement already satisfied: protobuf>=3.9.2 in /usr/local/lib/python3.6/dist-packages (from tf-nightly) (3.10.0)\n",
            "Requirement already satisfied: google-pasta>=0.1.8 in /usr/local/lib/python3.6/dist-packages (from tf-nightly) (0.2.0)\n",
            "Requirement already satisfied: termcolor>=1.1.0 in /usr/local/lib/python3.6/dist-packages (from tf-nightly) (1.1.0)\n",
            "Requirement already satisfied: scipy==1.4.1 in /usr/local/lib/python3.6/dist-packages (from tf-nightly) (1.4.1)\n",
            "Requirement already satisfied: gast==0.3.3 in /usr/local/lib/python3.6/dist-packages (from tf-nightly) (0.3.3)\n",
            "Requirement already satisfied: h5py<2.11.0,>=2.10.0 in /usr/local/lib/python3.6/dist-packages (from tf-nightly) (2.10.0)\n",
            "Requirement already satisfied: grpcio>=1.8.6 in /usr/local/lib/python3.6/dist-packages (from tf-nightly) (1.29.0)\n",
            "Requirement already satisfied: absl-py>=0.7.0 in /usr/local/lib/python3.6/dist-packages (from tf-nightly) (0.9.0)\n",
            "Requirement already satisfied: opt-einsum>=2.3.2 in /usr/local/lib/python3.6/dist-packages (from tf-nightly) (3.2.1)\n",
            "Requirement already satisfied: tf-estimator-nightly in /usr/local/lib/python3.6/dist-packages (from tf-nightly) (2.3.0.dev2020061901)\n",
            "Requirement already satisfied: setuptools>=41.0.0 in /usr/local/lib/python3.6/dist-packages (from tb-nightly<2.4.0a0,>=2.3.0a0->tf-nightly) (47.3.1)\n",
            "Requirement already satisfied: werkzeug>=0.11.15 in /usr/local/lib/python3.6/dist-packages (from tb-nightly<2.4.0a0,>=2.3.0a0->tf-nightly) (1.0.1)\n",
            "Requirement already satisfied: google-auth<2,>=1.6.3 in /usr/local/lib/python3.6/dist-packages (from tb-nightly<2.4.0a0,>=2.3.0a0->tf-nightly) (1.17.2)\n",
            "Requirement already satisfied: markdown>=2.6.8 in /usr/local/lib/python3.6/dist-packages (from tb-nightly<2.4.0a0,>=2.3.0a0->tf-nightly) (3.2.2)\n",
            "Requirement already satisfied: tensorboard-plugin-wit>=1.6.0 in /usr/local/lib/python3.6/dist-packages (from tb-nightly<2.4.0a0,>=2.3.0a0->tf-nightly) (1.6.0.post3)\n",
            "Requirement already satisfied: google-auth-oauthlib<0.5,>=0.4.1 in /usr/local/lib/python3.6/dist-packages (from tb-nightly<2.4.0a0,>=2.3.0a0->tf-nightly) (0.4.1)\n",
            "Requirement already satisfied: requests<3,>=2.21.0 in /usr/local/lib/python3.6/dist-packages (from tb-nightly<2.4.0a0,>=2.3.0a0->tf-nightly) (2.23.0)\n",
            "Requirement already satisfied: cachetools<5.0,>=2.0.0 in /usr/local/lib/python3.6/dist-packages (from google-auth<2,>=1.6.3->tb-nightly<2.4.0a0,>=2.3.0a0->tf-nightly) (4.1.0)\n",
            "Requirement already satisfied: pyasn1-modules>=0.2.1 in /usr/local/lib/python3.6/dist-packages (from google-auth<2,>=1.6.3->tb-nightly<2.4.0a0,>=2.3.0a0->tf-nightly) (0.2.8)\n",
            "Requirement already satisfied: rsa<5,>=3.1.4; python_version >= \"3\" in /usr/local/lib/python3.6/dist-packages (from google-auth<2,>=1.6.3->tb-nightly<2.4.0a0,>=2.3.0a0->tf-nightly) (4.6)\n",
            "Requirement already satisfied: importlib-metadata; python_version < \"3.8\" in /usr/local/lib/python3.6/dist-packages (from markdown>=2.6.8->tb-nightly<2.4.0a0,>=2.3.0a0->tf-nightly) (1.6.1)\n",
            "Requirement already satisfied: requests-oauthlib>=0.7.0 in /usr/local/lib/python3.6/dist-packages (from google-auth-oauthlib<0.5,>=0.4.1->tb-nightly<2.4.0a0,>=2.3.0a0->tf-nightly) (1.3.0)\n",
            "Requirement already satisfied: urllib3!=1.25.0,!=1.25.1,<1.26,>=1.21.1 in /usr/local/lib/python3.6/dist-packages (from requests<3,>=2.21.0->tb-nightly<2.4.0a0,>=2.3.0a0->tf-nightly) (1.24.3)\n",
            "Requirement already satisfied: certifi>=2017.4.17 in /usr/local/lib/python3.6/dist-packages (from requests<3,>=2.21.0->tb-nightly<2.4.0a0,>=2.3.0a0->tf-nightly) (2020.4.5.2)\n",
            "Requirement already satisfied: chardet<4,>=3.0.2 in /usr/local/lib/python3.6/dist-packages (from requests<3,>=2.21.0->tb-nightly<2.4.0a0,>=2.3.0a0->tf-nightly) (3.0.4)\n",
            "Requirement already satisfied: idna<3,>=2.5 in /usr/local/lib/python3.6/dist-packages (from requests<3,>=2.21.0->tb-nightly<2.4.0a0,>=2.3.0a0->tf-nightly) (2.9)\n",
            "Requirement already satisfied: pyasn1<0.5.0,>=0.4.6 in /usr/local/lib/python3.6/dist-packages (from pyasn1-modules>=0.2.1->google-auth<2,>=1.6.3->tb-nightly<2.4.0a0,>=2.3.0a0->tf-nightly) (0.4.8)\n",
            "Requirement already satisfied: zipp>=0.5 in /usr/local/lib/python3.6/dist-packages (from importlib-metadata; python_version < \"3.8\"->markdown>=2.6.8->tb-nightly<2.4.0a0,>=2.3.0a0->tf-nightly) (3.1.0)\n",
            "Requirement already satisfied: oauthlib>=3.0.0 in /usr/local/lib/python3.6/dist-packages (from requests-oauthlib>=0.7.0->google-auth-oauthlib<0.5,>=0.4.1->tb-nightly<2.4.0a0,>=2.3.0a0->tf-nightly) (3.1.0)\n",
            "Requirement already satisfied: tensorflow-model-optimization in /usr/local/lib/python3.6/dist-packages (0.3.0)\n",
            "Requirement already satisfied: dm-tree~=0.1.1 in /usr/local/lib/python3.6/dist-packages (from tensorflow-model-optimization) (0.1.5)\n",
            "Requirement already satisfied: six~=1.10 in /usr/local/lib/python3.6/dist-packages (from tensorflow-model-optimization) (1.12.0)\n",
            "Requirement already satisfied: numpy~=1.14 in /usr/local/lib/python3.6/dist-packages (from tensorflow-model-optimization) (1.18.5)\n"
          ],
          "name": "stdout"
        }
      ]
    },
    {
      "cell_type": "code",
      "metadata": {
        "id": "vaU1zjRF_dyo",
        "colab_type": "code",
        "colab": {
          "base_uri": "https://localhost:8080/",
          "height": 275
        },
        "outputId": "dd82e65a-7c41-4568-86e1-091838628f51"
      },
      "source": [
        "import gc\n",
        "import sys\n",
        "from datetime import date, datetime, time\n",
        "\n",
        "import matplotlib.pyplot as plt\n",
        "import numpy as np\n",
        "import scipy as sci\n",
        "import scipy.io as sio\n",
        "import seaborn as sns\n",
        "import tensorflow as tf\n",
        "import tensorflow.keras as keras\n",
        "from tensorflow.keras import metrics\n",
        "from tensorflow.keras.layers import (GRU, LSTM, Activation, Dense, Input,\n",
        "                                     SimpleRNN)\n",
        "from tensorflow.keras.models import Model\n",
        "import tensorflow_model_optimization as tfmot\n",
        "\n",
        "sns.set()\n",
        "print(sys.version)\n",
        "print(\"Tensor Flow:\",  tf.__version__)\n",
        "print(\"Keras: \", keras.__version__)\n",
        "print(\"Numpy: \", np.__version__)\n",
        "print(\"Seaborn: \", sns.__version__)\n",
        "print(\"scipy: \", sci.__version__)\n",
        "\n",
        "\n",
        "def increment_and_get(counter_path=\"counter.txt\", increment=True):\n",
        "    import os\n",
        "    value = 0\n",
        "    if os.path.exists(counter_path):\n",
        "        f = open(counter_path, \"r\")\n",
        "        value = int(f.readline())\n",
        "        f.close()\n",
        "        if increment is True:\n",
        "            value = value + 1\n",
        "    else:\n",
        "        if increment is True:\n",
        "            value = 1\n",
        "        else:\n",
        "            value = 0\n",
        "\n",
        "    if increment is True:\n",
        "        f = open(counter_path, \"w\")\n",
        "        f.write(str(value))\n",
        "        f.close()\n",
        "\n",
        "    return value\n",
        "\n",
        "\n",
        "model_iteration = increment_and_get(increment=False)\n",
        "\n",
        "\n",
        "def get_files_desc(path=\"nodefault\", cases=[0, 1, 2, 3, 4, 5, 6, 7]):\n",
        "    Cases_description = [\"Baseline\", \"Noise addition\", \"Adding respiratory noise\", \"helixoidal movements added \",\n",
        "                         \"alternatively changing periods\",\n",
        "                         \"contraction with noise\",\n",
        "                         \"ex beats\", \"TP\"\n",
        "                         ]\n",
        "\n",
        "    each_paths, each_descriptions = list(), list()\n",
        "    for i in cases:\n",
        "        full_path = path + str(i+1) + \".mat\"\n",
        "        each_paths.append(full_path)\n",
        "        description = Cases_description[i]\n",
        "        each_descriptions.append(description)\n",
        "    return each_paths, each_descriptions\n",
        "\n",
        "\n",
        "# cfg_cases_list = [2, 3, 4, 5]\n",
        "cfg_cases_list = [1]\n",
        "cfg_usable_cases_list = range(len(cfg_cases_list))\n",
        "print (\"Usable Cases list:\", *cfg_usable_cases_list)\n",
        "\n",
        "\n",
        "# cfg_EL_list = [5, 6, 7, 10, 11, 12, 15, 16, 17, 20, 21, 22, 25, 26, 27, 30, 31, 32 ] # Electrodes we are going to use\n",
        "cfg_EL_list = range(3,34,50) # Electrodes we are going to use (from, to, step)\n",
        "cfg_usable_EL_list = range(len(cfg_cases_list)) \n",
        "print (\"Electrodes list:\", *cfg_EL_list)\n",
        "\n",
        "file_paths, Cases_descriptions = get_files_desc(\n",
        "    \"fecgsyn_c\", cfg_cases_list)\n",
        "print(\"file_paths:\", file_paths)\n",
        "print(\"Cases_descriptions\", Cases_descriptions)\n",
        "\n",
        "# configuration variables\n",
        "cfg_mixture_gain = 100.0 \n",
        "cfg_mo_gain = 100.0  \n",
        "cfg_fo_gain = 10.0   \n",
        "cfg_in_len_seq = 250  # 350, 250, 150\n",
        "cfg_out_len_seq = 50\n",
        "cfg_batches_size = 500 # 5000 is too high - 4000 works at about same speed as 3000 ; 50 is 10 times slower than3000\n",
        "cfg_epochs = 1\n",
        "cfg_obs_ps = 500  # hertz\n",
        "cfg_storage_type_f = np.float16\n",
        "\n",
        "models = list()\n",
        "models.append(dict(name=\"baseline_\" + str(model_iteration), nb_neurons=20,\n",
        "                   files=file_paths, per_file_description=Cases_descriptions, electrode_list= cfg_EL_list))\n",
        "\n",
        "tf.random.set_seed(12345)\n",
        "print(\"Model iteration: \", model_iteration)\n"
      ],
      "execution_count": 2,
      "outputs": [
        {
          "output_type": "stream",
          "text": [
            "/usr/local/lib/python3.6/dist-packages/statsmodels/tools/_testing.py:19: FutureWarning: pandas.util.testing is deprecated. Use the functions in the public API at pandas.testing instead.\n",
            "  import pandas.util.testing as tm\n"
          ],
          "name": "stderr"
        },
        {
          "output_type": "stream",
          "text": [
            "3.6.9 (default, Apr 18 2020, 01:56:04) \n",
            "[GCC 8.4.0]\n",
            "Tensor Flow: 2.3.0-dev20200618\n",
            "Keras:  2.4.0\n",
            "Numpy:  1.18.5\n",
            "Seaborn:  0.10.1\n",
            "scipy:  1.4.1\n",
            "Usable Cases list: 0\n",
            "Electrodes list: 3\n",
            "file_paths: ['fecgsyn_c2.mat']\n",
            "Cases_descriptions ['Noise addition']\n",
            "Model iteration:  1\n"
          ],
          "name": "stdout"
        }
      ]
    },
    {
      "cell_type": "code",
      "metadata": {
        "id": "BAidOokiAJ0t",
        "colab_type": "code",
        "colab": {
          "base_uri": "https://localhost:8080/",
          "height": 85
        },
        "outputId": "331a3d23-d30f-460c-8bda-4ed7f7b1b3f7"
      },
      "source": [
        "def load_mat(path):\n",
        "    c_mat = sio.loadmat(path, variable_names=['out'])\n",
        "    mat_out_data = c_mat['out']\n",
        "    mat_out_type = mat_out_data.dtype\n",
        "    c_data = {n: mat_out_data[n][0, 0] for n in mat_out_type.names}\n",
        "    print(\"loading\", path, \" columns: \", str(\n",
        "        [n for n, v in c_data.items()]), \" EL, observations: \", c_data[\"mecg\"].shape)\n",
        "\n",
        "    mecg = np.array((c_data['mecg'] / cfg_mo_gain), dtype=cfg_storage_type_f)\n",
        "\n",
        "    fecg1 = np.array(c_data[\"fecg\"][0][0] / cfg_fo_gain, dtype=cfg_storage_type_f)\n",
        "    fecg2 = np.zeros(fecg1.shape, dtype=np.float32)\n",
        "    fecg3 = np.zeros(fecg1.shape, dtype=np.float32)\n",
        "    fecg4 = np.zeros(fecg1.shape, dtype=np.float32)\n",
        "\n",
        "    mixture = np.array(c_data[\"mixture\"] / cfg_mixture_gain, dtype=cfg_storage_type_f)\n",
        "\n",
        "    # we have indexes, all is zero but the indexes\n",
        "    mqrs_i = np.array(c_data[\"mqrs\"], np.int64)\n",
        "    mqrs = np.zeros(fecg1.shape[1], dtype=np.int8) # not per electrodes\n",
        "    mqrs[mqrs_i] = 1;\n",
        "\n",
        "    fqrs_i = np.array(c_data[\"fqrs\"][0][0] , np.int64)\n",
        "    fqrs = np.zeros(fecg1.shape[1], dtype=np.int8) # not per electrodes\n",
        "    fqrs[fqrs_i] = 1;\n",
        "\n",
        "    return mecg, fecg1, fecg2, fecg3, fecg4, mixture, mqrs, fqrs\n",
        "\n",
        "all_mecg, all_fecg1, all_fecg2, all_fecg3, all_fecg4, all_mixture , all_mqrs , all_fqrs  = list(),list(), list(), list(), list(), list(), list(), list()\n",
        "\n",
        "for c_path in file_paths:\n",
        "    c_mecg, c_fecg1, c_fecg2, c_fecg3, c_fecg4, c_mixture, c_mqrs, c_fqrs = load_mat(c_path)\n",
        "    print(\"completed.\")\n",
        "\n",
        "    all_mecg.append(c_mecg)\n",
        "    all_fecg1.append(c_fecg1)\n",
        "    all_fecg2.append(c_fecg2)\n",
        "    all_fecg3.append(c_fecg3)\n",
        "    all_fecg4.append(c_fecg4)\n",
        "    all_mixture.append(c_mixture)\n",
        "    all_mqrs.append(c_mqrs)\n",
        "    all_fqrs.append(c_fqrs)\n",
        "\n",
        "all_mecg = np.array(all_mecg)\n",
        "all_fecg1 = np.array(all_fecg1)\n",
        "all_fecg2 = np.array(all_fecg2)\n",
        "all_fecg3 = np.array(all_fecg3)\n",
        "all_fecg4 = np.array(all_fecg4)\n",
        "all_mixture = np.array(all_mixture)\n",
        "all_mqrs = np.array(all_mqrs)\n",
        "all_fqrs = np.array(all_fqrs)\n",
        "\n",
        "\n",
        "print(\"Total obs (all_mixture.shape):\", all_mixture.shape)\n",
        "print(\"Total obs (all_fqrs.shape):\", all_fqrs.shape)"
      ],
      "execution_count": 3,
      "outputs": [
        {
          "output_type": "stream",
          "text": [
            "loading fecgsyn_c2.mat  columns:  ['mecg', 'mixture', 'mqrs', 'fqrs', 'fecg']  EL, observations:  (34, 20000)\n",
            "completed.\n",
            "Total obs (all_mixture.shape): (1, 34, 20000)\n",
            "Total obs (all_fqrs.shape): (1, 20000)\n"
          ],
          "name": "stdout"
        }
      ]
    },
    {
      "cell_type": "code",
      "metadata": {
        "id": "urRVwWMdAkjS",
        "colab_type": "code",
        "colab": {
          "base_uri": "https://localhost:8080/",
          "height": 255
        },
        "outputId": "79957efe-cb84-4e23-b335-811752019db8"
      },
      "source": [
        "def prep_electrodes_array(x, ym, yf, yqm, yqf, l_seq, o_seq, els, cases):\n",
        "    gen_types = [\"original\", \"no_fo\", \"no_signal\"]\n",
        "    \n",
        "    X, YM, YF1, YQM, YQF1 = None, None, None, None, None\n",
        "    for case in cases:\n",
        "        for el in els:\n",
        "            for gen_type in gen_types:\n",
        "                if X is None:  # First time\n",
        "                    X, YM, YF1, YQM, YQF1= prep_training_array(x[case, el], ym[case,el], yf[case,el], yqm[case], yqf[case], l_seq, o_seq, gen_type)\n",
        "                else:\n",
        "                    X_t, YM_t, YF1_t, YQM_t, YQF1_t = prep_training_array(x[case, el], ym[case,el], yf[case,el], yqm[case], yqf[case], l_seq, o_seq, gen_type)\n",
        "                    X = np.concatenate((X, X_t))\n",
        "                    YM = np.concatenate((YM, YM_t))\n",
        "                    YF1 = np.concatenate((YF1, YF1_t))\n",
        "                    YQM = np.concatenate((YQM, YQM_t))\n",
        "                    YQF1 = np.concatenate((YQF1, YQF1_t))\n",
        "\n",
        "    return X, YM, YF1, YQM, YQF1\n",
        "\n",
        "\n",
        "def prep_training_array(x, ym, yf, yqm, yqf, l_seq, o_seq, gen_type=\"original\"):\n",
        "    if (len(x) != len(ym)):\n",
        "        raise NameError(\"x and y have different lengths \" +\n",
        "                        len(x) + \" \" + len(ym) + \" cannot continue.\")\n",
        "\n",
        "    X = np.empty([len(x)-l_seq, l_seq, 1], dtype=cfg_storage_type_f)\n",
        "    YM = np.empty([len(x)-l_seq, o_seq, 1], dtype=cfg_storage_type_f)\n",
        "    YF1 = np.empty([len(x)-l_seq, o_seq, 1], dtype=cfg_storage_type_f)\n",
        "    YQM = np.empty([len(x)-l_seq, o_seq, 1], dtype=np.int8)\n",
        "    YQF1 = np.empty([len(x)-l_seq, o_seq, 1], dtype=np.int8)\n",
        "\n",
        "    step = 1\n",
        "    \n",
        "    for i in range(0, len(x)-(l_seq), step):\n",
        "        X[i] = x[i:i + l_seq].reshape(l_seq, 1)\n",
        "        YM[i] = ym[i + l_seq - o_seq: i + l_seq].reshape(o_seq, 1)\n",
        "        YF1[i] = yf[i + l_seq - o_seq: i + l_seq].reshape(o_seq, 1)\n",
        "        YQM[i] = yqm[i + l_seq - o_seq: i + l_seq].reshape(o_seq, 1)\n",
        "        YQF1[i] = yqf[i + l_seq - o_seq: i + l_seq].reshape(o_seq, 1)\n",
        "\n",
        "    return X, YM, YF1, YQM, YQF1\n",
        "\n",
        "\n",
        "print(\"Data Preparation started\")\n",
        "print(\"training data\")\n",
        "X_train, Y_trainM, Y_trainF1 , Y_trainQM, Y_trainQF1 = prep_electrodes_array(\n",
        "    all_mixture, all_mecg, all_fecg1, all_mqrs, all_fqrs, cfg_in_len_seq , cfg_out_len_seq, cfg_EL_list, cfg_usable_cases_list)\n",
        "print(\"test data\")\n",
        "\n",
        "X_test, Y_testM, Y_testF1, Y_testQM, Y_testQF1 = prep_training_array(\n",
        "    all_mixture[0,8], all_mecg[0,8], all_fecg1[0,8], all_mqrs[0], all_fqrs[0], cfg_in_len_seq, cfg_out_len_seq)\n",
        "\n",
        "print(\"shuffling\")\n",
        "together = np.hstack((X_train, Y_trainM, Y_trainF1 , Y_trainQM, Y_trainQF1))\n",
        "np.random.shuffle(together)\n",
        "X_train, Y_trainM, Y_trainF1, Y_trainQM, Y_trainQF1 = np.hsplit(together, [cfg_in_len_seq,\n",
        "                                                                           cfg_in_len_seq+cfg_out_len_seq,\n",
        "                                                                           cfg_in_len_seq+cfg_out_len_seq *2,\n",
        "                                                                           cfg_in_len_seq+cfg_out_len_seq *3,])\n",
        "def debug_display(name , val):\n",
        "    print(\"debug:\", name,  val.shape, val.dtype , \"min :\", np.min(val), \"max:\", np.max(val))\n",
        "\n",
        "debug_display(\"X_train\", X_train)\n",
        "debug_display(\"Y_trainM\", Y_trainM)\n",
        "debug_display(\"Y_trainF1\", Y_trainF1)\n",
        "debug_display(\"Y_trainQM\", Y_trainQM)\n",
        "debug_display(\"Y_trainQF1\", Y_trainQF1)\n",
        "\n",
        "debug_display(\"X_test\", X_test)\n",
        "debug_display(\"Y_testM\", Y_testM)\n",
        "debug_display(\"Y_testF1\", Y_testF1)\n",
        "debug_display(\"Y_testQM\", Y_testQM)\n",
        "debug_display(\"Y_testQF1\", Y_testQF1)"
      ],
      "execution_count": 4,
      "outputs": [
        {
          "output_type": "stream",
          "text": [
            "Data Preparation started\n",
            "training data\n",
            "test data\n",
            "shuffling\n",
            "debug: X_train (59250, 250, 1) float16 min : -123.56 max: 257.5\n",
            "debug: Y_trainM (59250, 50, 1) float16 min : -87.5 max: 212.8\n",
            "debug: Y_trainF1 (59250, 50, 1) float16 min : -147.4 max: 144.1\n",
            "debug: Y_trainQM (59250, 50, 1) float16 min : 0.0 max: 1.0\n",
            "debug: Y_trainQF1 (59250, 50, 1) float16 min : 0.0 max: 1.0\n",
            "debug: X_test (19750, 250, 1) float16 min : -90.2 max: 177.5\n",
            "debug: Y_testM (19750, 50, 1) float16 min : -47.25 max: 140.1\n",
            "debug: Y_testF1 (19750, 50, 1) float16 min : -119.5 max: 431.5\n",
            "debug: Y_testQM (19750, 50, 1) int8 min : 0 max: 1\n",
            "debug: Y_testQF1 (19750, 50, 1) int8 min : 0 max: 1\n"
          ],
          "name": "stdout"
        }
      ]
    },
    {
      "cell_type": "code",
      "metadata": {
        "id": "tEENJs2SBKW0",
        "colab_type": "code",
        "colab": {
          "base_uri": "https://localhost:8080/",
          "height": 34
        },
        "outputId": "f521575b-156d-48dd-9027-4c5339a171eb"
      },
      "source": [
        "print(gc.collect())\n"
      ],
      "execution_count": 5,
      "outputs": [
        {
          "output_type": "stream",
          "text": [
            "22\n"
          ],
          "name": "stdout"
        }
      ]
    },
    {
      "cell_type": "code",
      "metadata": {
        "id": "h7iwK8cyBQjH",
        "colab_type": "code",
        "colab": {
          "base_uri": "https://localhost:8080/",
          "height": 391
        },
        "outputId": "106c8d84-151f-441e-8838-9cab184d78bd"
      },
      "source": [
        "from tensorflow.keras.layers import Input\n",
        "from tensorflow.keras.models import Model\n",
        "from tensorflow.keras.layers import Dense, Activation\n",
        "from tensorflow.keras.layers import SimpleRNN\n",
        "from tensorflow.keras.layers import GRU\n",
        "from tensorflow.keras.layers import LSTM\n",
        "from tensorflow.keras.layers import Reshape\n",
        "from tensorflow.keras.layers import Dropout\n",
        "from tensorflow.keras.layers import Flatten\n",
        "from tensorflow.keras.layers import Concatenate\n",
        "from tensorflow.keras.layers import TimeDistributed\n",
        "from tensorflow.keras.layers import Bidirectional\n",
        "from tensorflow.keras.layers import Concatenate\n",
        "from tensorflow.keras.layers import Conv1D\n",
        "from tensorflow.keras import regularizers\n",
        "from tensorflow.keras import metrics\n",
        "\n",
        "\n",
        "def define_model(length_of_sequences, batch_size=None, modelName=\"nonamegiven\"):\n",
        "    inp = Input(batch_shape=(batch_size, length_of_sequences, 1), name=\"inputs\")\n",
        "    lstmM = Bidirectional(LSTM(50, name=\"lstm_m\", return_sequences=True))(inp)\n",
        "    flat = Flatten()(lstmM)\n",
        "    denseM = Dense(50, kernel_regularizer=regularizers.l2(0.0001))(flat)\n",
        "    reshapeM = Reshape((50, 1))(denseM)\n",
        "    denseM = TimeDistributed(\n",
        "        Dense(1, kernel_regularizer=regularizers.l2(\n",
        "            0.0001), bias_initializer='zeros'),\n",
        "        input_shape=(50, 1))(reshapeM)\n",
        "    out_M = Reshape((50, 1), name=\"om\")(denseM)\n",
        "    model = Model(inputs=[inp], outputs=[out_M], name=modelName)\n",
        "    model.compile(\n",
        "        loss={\"om\": \"mean_squared_error\"},\n",
        "        optimizer=keras.optimizers.RMSprop(learning_rate=0.001),\n",
        "        metrics=['mae'])\n",
        "    \n",
        "    return model\n",
        "\n",
        "def define_q_model(k_model): \n",
        "    q_aware_model = tfmot.quantization.keras.quantize_model(k_model)\n",
        "    q_aware_model.compile(\n",
        "        loss={\"quant_om\": \"mean_squared_error\", \"quant_of\": \"mean_squared_error\"},\n",
        "        optimizer=keras.optimizers.RMSprop(learning_rate=0.001), \n",
        "        metrics=['mae'])\n",
        "    \n",
        "    return q_aware_model\n",
        "    \n",
        "for m in models:\n",
        "    m[\"k_model\"] = define_model(\n",
        "        length_of_sequences=cfg_in_len_seq, modelName=m[\"name\"])\n",
        "    m[\"k_model\"].summary()\n",
        "    \n"
      ],
      "execution_count": 6,
      "outputs": [
        {
          "output_type": "stream",
          "text": [
            "Model: \"baseline_1\"\n",
            "_________________________________________________________________\n",
            "Layer (type)                 Output Shape              Param #   \n",
            "=================================================================\n",
            "inputs (InputLayer)          [(None, 250, 1)]          0         \n",
            "_________________________________________________________________\n",
            "bidirectional (Bidirectional (None, 250, 100)          20800     \n",
            "_________________________________________________________________\n",
            "flatten (Flatten)            (None, 25000)             0         \n",
            "_________________________________________________________________\n",
            "dense (Dense)                (None, 50)                1250050   \n",
            "_________________________________________________________________\n",
            "reshape (Reshape)            (None, 50, 1)             0         \n",
            "_________________________________________________________________\n",
            "time_distributed (TimeDistri (None, 50, 1)             2         \n",
            "_________________________________________________________________\n",
            "om (Reshape)                 (None, 50, 1)             0         \n",
            "=================================================================\n",
            "Total params: 1,270,852\n",
            "Trainable params: 1,270,852\n",
            "Non-trainable params: 0\n",
            "_________________________________________________________________\n"
          ],
          "name": "stdout"
        }
      ]
    },
    {
      "cell_type": "code",
      "metadata": {
        "id": "YobjSjncBrqW",
        "colab_type": "code",
        "colab": {
          "base_uri": "https://localhost:8080/",
          "height": 51
        },
        "outputId": "3ee09a2c-36c8-48d5-db31-cd256ff53cce"
      },
      "source": [
        "# Training\n",
        "\n",
        "early_stop = tf.keras.callbacks.EarlyStopping(monitor='val_loss', patience=5, min_delta=5, restore_best_weights= True)\n",
        "\n",
        "for m in models:\n",
        "    print (\"fitting\")\n",
        "    m[\"k_history\"] = m[\"k_model\"].fit(x=X_train, y=[Y_trainM, Y_trainF1], \n",
        "                                      batch_size=cfg_batches_size, epochs=cfg_epochs, verbose=1, validation_split=0.1, \n",
        "                                      callbacks=[early_stop])"
      ],
      "execution_count": 7,
      "outputs": [
        {
          "output_type": "stream",
          "text": [
            "fitting\n",
            "107/107 [==============================] - 144s 1s/step - loss: 548.0243 - mae: 9.1702 - val_loss: 415.6314 - val_mae: 8.4375\n"
          ],
          "name": "stdout"
        }
      ]
    },
    {
      "cell_type": "code",
      "metadata": {
        "id": "_XKovg8wEMco",
        "colab_type": "code",
        "colab": {
          "base_uri": "https://localhost:8080/",
          "height": 1000
        },
        "outputId": "44711c60-0573-4fcd-acf4-b10bb86cf590"
      },
      "source": [
        "# converting to TFLite without quantization\n",
        "\n",
        "converter = tf.lite.TFLiteConverter.from_keras_model(m[\"k_model\"])\n",
        "m[\"k_model_float_tflite\"] = converter.convert()\n",
        "print(\"no quantization lite model conversion completed\")\n",
        "\n",
        "tflite_model_file = 'current_float_model.tflite'\n",
        "f = open(tflite_model_file, 'wb')\n",
        "f.write(m[\"k_model_float_tflite\"])\n",
        "f.close()\n",
        "print(\"no quantization lite model conversion saved\")\n",
        "\n"
      ],
      "execution_count": 8,
      "outputs": [
        {
          "output_type": "stream",
          "text": [
            "WARNING:tensorflow:From /usr/local/lib/python3.6/dist-packages/tensorflow/python/training/tracking/tracking.py:110: Model.state_updates (from tensorflow.python.keras.engine.training) is deprecated and will be removed in a future version.\n",
            "Instructions for updating:\n",
            "This property should not be used in TensorFlow 2.0, as updates are applied automatically.\n",
            "WARNING:tensorflow:From /usr/local/lib/python3.6/dist-packages/tensorflow/python/training/tracking/tracking.py:110: Layer.updates (from tensorflow.python.keras.engine.base_layer) is deprecated and will be removed in a future version.\n",
            "Instructions for updating:\n",
            "This property should not be used in TensorFlow 2.0, as updates are applied automatically.\n",
            "INFO:tensorflow:Assets written to: /tmp/tmppuquc9yw/assets\n"
          ],
          "name": "stdout"
        },
        {
          "output_type": "error",
          "ename": "ConverterError",
          "evalue": "ignored",
          "traceback": [
            "\u001b[0;31m---------------------------------------------------------------------------\u001b[0m",
            "\u001b[0;31mException\u001b[0m                                 Traceback (most recent call last)",
            "\u001b[0;32m/usr/local/lib/python3.6/dist-packages/tensorflow/lite/python/convert.py\u001b[0m in \u001b[0;36mtoco_convert_protos\u001b[0;34m(model_flags_str, toco_flags_str, input_data_str, debug_info_str, enable_mlir_converter)\u001b[0m\n\u001b[1;32m    184\u001b[0m                                                  \u001b[0mdebug_info_str\u001b[0m\u001b[0;34m,\u001b[0m\u001b[0;34m\u001b[0m\u001b[0;34m\u001b[0m\u001b[0m\n\u001b[0;32m--> 185\u001b[0;31m                                                  enable_mlir_converter)\n\u001b[0m\u001b[1;32m    186\u001b[0m       \u001b[0;32mreturn\u001b[0m \u001b[0mmodel_str\u001b[0m\u001b[0;34m\u001b[0m\u001b[0;34m\u001b[0m\u001b[0m\n",
            "\u001b[0;32m/usr/local/lib/python3.6/dist-packages/tensorflow/lite/python/wrap_toco.py\u001b[0m in \u001b[0;36mwrapped_toco_convert\u001b[0;34m(model_flags_str, toco_flags_str, input_data_str, debug_info_str, enable_mlir_converter)\u001b[0m\n\u001b[1;32m     37\u001b[0m       \u001b[0mdebug_info_str\u001b[0m\u001b[0;34m,\u001b[0m\u001b[0;34m\u001b[0m\u001b[0;34m\u001b[0m\u001b[0m\n\u001b[0;32m---> 38\u001b[0;31m       enable_mlir_converter)\n\u001b[0m\u001b[1;32m     39\u001b[0m \u001b[0;34m\u001b[0m\u001b[0m\n",
            "\u001b[0;31mException\u001b[0m: <unknown>:0: error: loc(callsite(callsite(callsite(unknown at \"baseline_1/bidirectional/backward_lstm_m/PartitionedCall@__inference__wrapped_model_8108\") at \"StatefulPartitionedCall@__inference_signature_wrapper_16010\") at \"StatefulPartitionedCall\")): We cannot duplicate the value since it's not constant.\n\n<unknown>:0: note: loc(\"StatefulPartitionedCall\"): called from\n<unknown>:0: note: loc(callsite(callsite(callsite(unknown at \"baseline_1/bidirectional/backward_lstm_m/PartitionedCall@__inference__wrapped_model_8108\") at \"StatefulPartitionedCall@__inference_signature_wrapper_16010\") at \"StatefulPartitionedCall\")): see current operation: %5 = \"tfl.unidirectional_sequence_lstm\"(%4, %cst_16, %cst_17, %cst_18, %cst_19, %cst_8, %cst_9, %cst_10, %cst_11, %cst_7, %cst_7, %cst_7, %cst_12, %cst_13, %cst_14, %cst_15, %cst_7, %cst_7, %3, %3, %cst_7, %cst_7, %cst_7, %cst_7) {cell_clip = 1.000000e+01 : f32, fused_activation_function = \"TANH\", proj_clip = 0.000000e+00 : f32, time_major = false} : (tensor<?x250x1xf32>, tensor<50x1xf32>, tensor<50x1xf32>, tensor<50x1xf32>, tensor<50x1xf32>, tensor<50x50xf32>, tensor<50x50xf32>, tensor<50x50xf32>, tensor<50x50xf32>, none, none, none, tensor<50xf32>, tensor<50xf32>, tensor<50xf32>, tensor<50xf32>, none, none, tensor<?x50xf32>, tensor<?x50xf32>, none, none, none, none) -> tensor<?x250x50xf32>\n<unknown>:0: error: Failed to duplicate values for the stateful op\n\n<unknown>:0: note: see current operation: \"func\"() ( {\n^bb0(%arg0: tensor<?x250x1xf32>):  // no predecessors\n  %cst = \"std.constant\"() {value = dense<-0.00485095195> : tensor<1xf32>} : () -> tensor<1xf32>\n  %cst_0 = \"std.constant\"() {value = dense<[-0.00345666986, -0.00393358059, -0.00371282455, -0.00316686626, -0.00269649085, -0.00288696727, -0.00282564806, -0.00258038612, -0.00309774652, -0.00376508664, -0.00457138754, -0.00452319859, -0.00416954746, -0.00199277559, -0.00420590444, -0.00571686588, -0.00464503188, -0.00424120668, -0.00434884336, -0.0053275954, -0.00633115973, -0.00594567228, 5.57982246E-4, -1.54344074E-4, -0.0018466647, -0.00353229512, 0.00146531221, 0.00235172943, 0.00213338388, 0.00328120217, 0.00396943698, 0.00389144127, -0.0011078153, -0.00695018377, 0.00137493247, 0.00232926873, 0.00353763346, 0.00369567377, 0.00528711686, 0.00703268871, 0.00150696631, 0.00293202861, 0.00400062697, 0.00394761888, 0.00341043528, 0.00214462331, 4.276360e-04, -0.00172673608, 0.00151821529, -0.00152525213]> : tensor<50xf32>} : () -> tensor<50xf32>\n  %cst_1 = \"std.constant\"() {value = dense<0.000000e+00> : tensor<f32>} : () -> tensor<f32>\n  %cst_2 = \"std.constant\"() {value = dense<[-1, 25000]> : tensor<2xi32>} : () -> tensor<2xi32>\n  %cst_3 = \"std.constant\"() {value = dense<50> : tensor<i32>} : () -> tensor<i32>\n  %cst_4 = \"std.constant\"() {value = dense<1> : tensor<i32>} : () -> tensor<i32>\n  %cst_5 = \"std.constant\"() {value = dense<[-1, 1]> : tensor<2xi32>} : () -> tensor<2xi32>\n  %cst_6 = \"std.constant\"() {value = dense<[-1, 50, 1]> : tensor<3xi32>} : () -> tensor<3xi32>\n  %cst_7 = \"std.constant\"() {value} : () -> none\n  %cst_8 = \"std.constant\"() {value = dense<\"0x819318BDF981E4BBE9CBA43D8674CF3D83EE603B2F4D363E4696283CDC4004BC872EE03D6844463E24DACD3D97E5E13B0BC082BC0A3D193EECA1653D443B34BE6578513CE32981BDCAA610BDD00ADF3DBCE0A0BBE15794BD5E2A87BD1B88E4BC9C9DE5BB4B28523E208DE3BD9F7F3DBDBC14AD3D9EFC68BD373C28BEE79F30BDD9553DBEC8494A3C0F4076BCF827F83D9EB723BDECEAC9BCB46182BD58DB453D96DAC33D2B00EE3C95E211BEB44952BDF0BA17BE362D59BE65DA8B3DC72CDDBDF487253EA0F7803ED4F9613D955E30BDBC1BCEBD2562A4BC1F13FEBC67BB683D6AD80FBCCA228ABDE58465BE273B4C3CC36FB03DE1064B3D578F2A3E765FD23DC592A23DD36CF63C784BC3BD0E0D00BD7100E73D3EDBE33DCDD412BED50D16BD89A0083ED9CEE5BBC00ADB3CF0343C3E8E3226BDE8368EBDB8F40F3EF396FC3CBA5EFC3C43B3033DE3D38CBDA049993DF36ED73C12E7243DB9342B3D9C2A4B3D68FF9C3B6B86D4BD4EF2D23BE9BD843D5D6226BE54750E3D1A84C93C70CA8EBD07434E3C355950BD6845C9BD87EDF3BC3CBB293D102200BD158EC1BD49758DBD60A6893DEDBB883C3C98783C2DF018BDA3C224BDDCAC71BDA2D4103EC1F9B43D149E02BE9C42F43DD25FC93D0A18BABDEB29B43DBFB3893D37C3E4BDD2B20E3EA8DCBF3DF7B84BBD2A0E1B3D0D3E8A3DC74D133D1C9ECC3C1A4C08BDCDC0DEBD4D1EE53D6251CF3CA6D84ABDAEE003BEB8B9E4BCA927FE3C7D8C9ABDDD8959BD0639CE3CBB34F1BD31591DBEE4ECE13DF679253E2A8CC3BD59DBDABDAC28E03C714005BDC4DB99BDCAF4C5BC67F7F0BB835C98BD52FC8A3DCF5F423D32BC443D71D133BEE1D207BD0F8017BD49D3763C748FFF3B030A97BDC285D93CDD7D2BBD45AA113D14CA6EBDB036C2BDEFC2623EFACC5BBD17C12BBD4F47023D31C6C83D4E35E63BA2668B3DEF0A71BEA1B188BD11DCC5BC534DF73DF08F88BD757D893D6DBE033E69DB8CBD4163413CAC84263ECAD160BDB7C...\n  %cst_9 = \"std.constant\"() {value = dense<\"0x9ED66FBDA4FFD33D758DEA3D768C9C3C8B00ADBC8C75AC3DE8F464BC09A212BE8096A93DEA827CBD1316A0BDCB0D1F3D3680243E04CC003E887A203B02179FBD7705703D7F7EBCBDDA00F1BC2507343DB75544BDF8DD52BE9471103E7F0CB2BDD21B2BBC8B506B3D38E489BD9BEFB2BD8BC3243EDAF2D3BC883BD33B7449243DBCB3E4BD1ACA10BE4154C9BCE5AB9A3D269A2B3E051690BD454745BE50F28DBD7EA51A3E2226813C81F6503B36F545BDD562D4BC64456F3C856142BECBC27FBC0E4C333C2C66A1BDE1126CBEDF7EA43C4C5396BCE52A743DACE7BDBDA07F87BD9141B13C3E9C11BEADBB863E0BD714BE2F41D6BDEA380B3D0C48E0BBF7EB073E6AC290BD6E929BBD9817803C96706ABB04C0E5BCCD3B92BD4DC8A63D7534C8BD9778313DC3BC0BBE19367E3C496D023E1349F7BD2582B4BD96694A3E76E0AABD04E0903C4D0CE4BA2633A53D66F8843D22BF12BEF9DCF83DA0F8D73B98F7DCBDC51096BD5A2F033D6E1A8EBD0C79BD3DCC32503D315C58BE87B4F5BC6C5C95BDFF3881BDE12FAE3DF06FAEBD534ABEBD9B97D53D1F31093DB72FA1BDD5442E3E33E6013DB7E0D33D50F958BE6874DE3C61B794BD324AC93DCE1AA03D6634F43C98C70ABE82D3603D8C4541BD523A60BD1637BA3D5E95BA3D527587BC34CAF43ABF453CBE4CF4D4BA58F44E3EC7A71FBD325F293D20BF56BD5ECE4D3BD75988BBEDA6AE3D3FB6C5BD14A89EBD73B9163DCB169EBD1664C1BD5AF7BABD970D803DAC9C423ECAE2A63DDA1C4D3EF8B3EFBD1E37063E40BFF53DD1D00CBDC2FE193D916A4E3D51C30E3EC04142BEC70C063D5EB8EA3D72AE8B3DB2E6BEBD646A323E7D4603BE0D320E3DDFE43FBCD54E873DFE51703C9690513D896CB1BC6457B7BDA84A72BD2F4F863D9199933DE988233D2CEC46BDD2DE2CBD8801B23934F8BBBD36C31ABD1F4F52BE8D690EBE946C07BD23E4293CAA20F63C3724863D176F593DACE745BD8EF664BE1FDE573D78E5EA3DCF820A3E69D...\n  %cst_10 = \"std.constant\"() {value = dense<\"0x0AA29BBB750E66BDC63515BCD072803C0896113B4AD5E03D2D9CBA3CAC7426BDBD88DCBD9162363D358F973E5FA823BD170AD8BDED3269BCAD7FDA3D7B31063E454190BD0986BA3DEEAFD3BD71CA43BD38C41B3D39D208BE1C0C9FBDE173A73C78FC24BE0C1D613B2766E83C43BA02BD2C9124BDEA9959BD2A5900BEAE3423BED5A4223E8887663DD5B45EBD15258CBD629F8CBD4285C9BC34389EBD7BBCDB3C35A3AABDE9C8ADBD19A2DF3C40388D3C23151DBEB47A2CBA9DF79E3CA93317BEEB95B53DA7C6AE3DA6F41ABEA90714BC4C63823A7F1458BDB7C08EBB4960403D6062F93DC832D8BD2D2DDEBC291C03BE58BBC33C5B7A1BBDD7CB343E8DD72DBE526916BD34B8A83DE5DDB83CF8ED0DBE8635723C24E4CB3D80C744BCA0421F3EA545DEBD876680BDCE695C3C30E0613BC967F53D1BE4BA3D6ED610BDBF4813BBD560663D3A79393D7ECB9EBD036C2BBEB809413DD64091BDCA31983CD8E674BA989E903D929ACFBD5274AA3D8BBE87BDDB351D3D7BC87F3DE73E303CAC58D2BD1F688BBCD27B133ECB9AECBD149435BEFFA98E3DBB57E5BD84491BBDCE8EBEBDAB1AAA3D7C1FD5B9BA83B3BC525DEE3D295EF73D5983173EAA95B33DF17865BC904D593D60DFF13C4C45B1BC5E15B43D9B02AC3C4963E33D95E4F83D69D208BEBF6B033D3139C8BCC928B7BD9C09513E8E1117BE2A9B23BE8CCC653CD0F55DBC5C7DBB3DFBCAC1BD9A4933BEFF3DD3BDAF42FA3C14A7F33D5CFBF6BD2095153DB2A0C2BDD4643E3D40079DB724C769BD96354C3DCDF50E3EDB4234BCC0052B3DC400043EF09C43BD1C02C4BD764EF5BD539410BEB7A3BE3D9F97A9BD78A4353E18407DBDD6048D3DA95B123C1CED5ABD1ADABABDB159F33DEC7F14BC792E24BE68BDD13C7A74A9BD42B3C6BD5234023E99A4B2BC43A48E3E2000093DB7AF93BDAE630E3EFE6244BE60738EBD24F00EBE386745BDF9A709BE08D919BD2F27E73D7DE4AB3B93BBFE3D6057913C31D2203E46CDC33C16...\n  %cst_11 = \"std.constant\"() {value = dense<\"0x7208E7BC273DA73D8DAB363E5622083C077292BD106DFD3DC61B83BB9D953DBD704BD23DAB16713C76632BBD6921223E76B0E53D2886873D63EFAEBD298030BEB8A9C93D56A7143E5F9E2B3DD6E8A23D6C5B0F3DBADBD4BDF1C44B3EA643CEBDD07BD1BB0E77343EE3528A3DFD3766BE2438583DAE53F6BD210DA1BD6D1026BE7920403ED91C78BE96CEBBBD5C1C143ED95067BCE944CABDE1BCA2BDA381E13CD174AEBD8CF80B3E0AD836BDEC60F4BD138DF93CA687B4BDB68F21BEEEB4283D252A833EA4A519BE1218BE3D5E8EAF3DB01BC83D858E1F3DC97ABBBE28246F3DFE96F3BD0029C23BE3091C3E1335893ECC7413BD0636883D08C3553C909D133ED12BEB3D24C4E4BDFE25413E299BDBBD4626C9BDFD4650BD5C12B53D9A5F62BE1A6987BD26FD01BEA71404BE824B423EAB11213D05C751BD05B2203E2B0500BE72CE0C3C4ACC38BE93DA263E42F91ABE938AF1BCF5C2F23DCE26CBBD6DDEA3BDB55410BEC8C8363E2E1527BE5A7AC63CE4D429BDC66F76BE406D9DBC71365CBE91E517BE69AFE4BC905CBD3C1923EE3D1318E43DFF504CBECF3814BD27D222BE533BAD3D6696C0BD70C0E639C3BBCABC2CF8B2BDDB436B3D3EF3AD3C08B38FBCDB44C8BD063BABBD5CA0AEBD44E357BD82188CBDF3FCEF3D69AA3CBE9632A83D9A2C08BE3ABA783D1BCDF73C6E44A73EA5A4653D5912A53C4044953E068BAA3C8409CFBD0313E0BD9D57F3BC1B713C3E36B28BBC5ED2DC3D9D0BB13CFE007BBD9E020D3E04611ABECAC6C83C6B9DA5BC5D4E893CBA7601BCF0E783BC80DA7C3C40DB303E9748FFBC9290683DDC8ED1BDC9E0053E239B0A3E7D0B97BD3D997E3E1049123C7E25FD3CF3119EBD970D163E876AF2BD949EB3BD4E44ED3C38BDC3BC4C3B23BC86F1393E05AAE63D2244003E032D863CEAC542BE5C330E3EA6032E3D10F6D5BD828EAFBC3EB9923DA7311EBE21314D3D7F0390BD762D3CBDF8DD17BD7EBCDD3D19F0D9BD58A8B03C531C1EBE7A3FABBC8A...\n  %cst_12 = \"std.constant\"() {value = dense<[0.118948802, 0.0594209507, 0.112327635, 0.0810504928, 0.114968762, 0.107718721, 0.0592395887, 0.102804981, 0.106948055, 0.0983427762, 0.0995606407, 0.10045401, 0.100362539, 0.0476368442, 0.088326849, 0.0398068801, 0.0719263479, 0.0914027094, 0.0919913426, 0.133580029, 0.099056825, 0.0876286775, 0.110661007, 0.0312007237, 0.0892127528, 0.0391873382, 0.115070298, 0.0605072752, 0.103909314, 0.0952589065, 0.108063728, 0.11211773, 0.0995015576, 0.0812348499, 0.0903692394, 0.109216169, 0.0973930731, 0.0694628134, 0.104939833, 0.0994110703, 0.0830361545, 0.105651826, 0.123289928, 0.115557194, 0.059186019, 0.116816357, 0.0833007395, 0.103400849, 0.104258277, 0.0977930128]> : tensor<50xf32>} : () -> tensor<50xf32>\n  %cst_13 = \"std.constant\"() {value = dense<[1.0986141, 1.09082341, 1.0746119, 1.05901706, 1.07226694, 1.05524099, 0.986178874, 1.09522033, 1.05758703, 1.08256733, 1.09276378, 1.10951686, 1.06140757, 1.09056449, 1.08776021, 1.01512969, 1.05836546, 1.0915271, 1.10120296, 1.09105027, 1.08122098, 1.07676113, 1.09337008, 1.11115432, 1.05062032, 1.09919357, 1.09154272, 1.05096447, 1.1100204, 1.06594753, 1.09348202, 1.09098601, 1.06808197, 1.08418453, 1.10274065, 1.04652083, 1.07406735, 1.07497764, 1.10424387, 1.06002069, 1.03963566, 1.07293427, 1.1062479, 1.06618786, 1.05226111, 1.07246673, 1.08979595, 1.08214819, 1.09182107, 1.08391273]> : tensor<50xf32>} : () -> tensor<50xf32>\n  %cst_14 = \"std.constant\"() {value = dense<[0.0538439378, -0.00119826873, -0.0521089844, 0.00901668146, -0.0498973206, 0.0848198831, -9.53632349E-4, -0.081766434, 0.0756323337, 0.0590334684, 0.0626079142, -0.0243675504, 0.0655089318, 0.0662027448, 0.0964220687, -0.0202053264, 0.0311301798, 0.0847455412, -0.0711874515, -0.0597959869, 0.0543927401, -0.0277490877, -0.00769935455, -0.00630797353, -0.0818674787, 0.0155747663, 0.105293006, -0.0510924645, 0.0159127619, -0.0491068475, -0.0891767516, -0.10047023, 0.0946094543, 0.0201370884, -0.018021293, -0.0175655503, -0.0553029515, -0.110463649, -0.0841124579, 0.0917200595, -0.086880222, 0.0283186957, 0.0743466467, -0.076607056, -0.0803545713, -0.0635312274, 0.0509962477, -0.0924330205, 0.0796163827, 0.0736192092]> : tensor<50xf32>} : () -> tensor<50xf32>\n  %cst_15 = \"std.constant\"() {value = dense<[0.0911972448, 0.108986676, 0.106324673, 0.0960640683, 0.114174344, 0.124734893, 0.0944271162, 0.119712681, 0.115221545, 0.107450947, 0.0986238569, 0.0884036645, 0.110107057, 0.11261142, 0.124408193, 0.106988691, 0.109849498, 0.0947467982, 0.0979072228, 0.136217266, 0.115165949, 0.111539416, 0.120291144, 0.122830465, 0.114670165, 0.122472934, 0.111189015, 0.0943362191, 0.0885669589, 0.109798871, 0.086693868, 0.127268374, 0.126943827, 0.112478428, 0.119291872, 0.10486304, 0.12799716, 0.104111232, 0.113096811, 0.126824737, 0.114558145, 0.107317962, 0.136117369, 0.114656135, 0.102219202, 0.117192812, 0.114182428, 0.101210207, 0.117026478, 0.0934736058]> : tensor<50xf32>} : () -> tensor<50xf32>\n  %cst_16 = \"std.constant\"() {value = dense<[[0.00818612799], [-0.0915882885], [-0.0233448986], [-0.175113559], [-0.044088386], [0.0135751665], [-0.17977646], [-0.105868809], [-0.0287758466], [0.0373217613], [0.0591363795], [-0.0664675459], [-0.0262850616], [-0.181582227], [0.0447561517], [-0.0617723428], [-0.175026789], [0.0224411301], [0.0315134674], [0.0158430189], [0.0266900733], [-0.207964733], [-0.0100939795], [-0.0923225731], [0.0564010404], [0.211195379], [-0.0507571734], [-0.129094064], [-0.0497736633], [0.0118480902], [0.050791055], [0.0158011038], [0.038969297], [-0.0197411161], [-0.130179837], [-0.0294597633], [0.0158589091], [-0.152301267], [-0.0577128828], [0.0170163605], [0.0643886477], [-0.015232604], [0.0046945815], [0.00588194933], [0.101117074], [-0.0675651431], [-0.0331306085], [0.0281402841], [0.0263780225], [0.0142675117]]> : tensor<50x1xf32>} : () -> tensor<50x1xf32>\n  %cst_17 = \"std.constant\"() {value = dense<[[-0.008972615], [0.0105267065], [0.0177029222], [0.0026615453], [0.0153593309], [-0.0870756506], [-0.0604609586], [-0.0506772622], [0.0158184152], [-0.00511545129], [-0.0109223183], [0.00960212853], [0.017648736], [0.0179514736], [-0.010536842], [-0.0290316846], [-0.0353467092], [0.00304657687], [5.428010e-03], [0.101359993], [0.00391365308], [-0.0152176954], [-0.0289087594], [-0.0518179946], [0.0464038514], [0.0619800575], [0.0353978351], [0.00402889773], [0.00730002765], [0.00308260415], [-0.0106847649], [0.0175059196], [0.0503510647], [-0.0102564488], [0.0106579419], [0.0181485787], [0.0187895596], [-0.0134604704], [-0.010594219], [0.0158911813], [0.0917025656], [-0.00372993574], [0.0365986973], [1.417720e-02], [0.101278305], [0.0144247944], [-0.0458229631], [-0.00851251092], [-0.00407754118], [-0.00925889797]]> : tensor<50x1xf32>} : () -> tensor<50x1xf32>\n  %cst_18 = \"std.constant\"() {value = dense<[[-0.0227809623], [-0.0370417349], [-0.141358882], [-0.0601535626], [0.185794145], [-0.033231955], [0.0718914717], [0.0413620286], [-0.102513641], [-0.0342451893], [-0.0281144474], [-0.123325177], [-0.127776384], [-0.165881529], [-0.0413068831], [0.0355135314], [-0.0470466875], [-0.0401308388], [0.0502179042], [0.0478122719], [-0.0348647498], [0.0289232545], [-0.0193091165], [0.0243785735], [0.0419080928], [0.113905735], [0.0681543425], [0.09650027], [-0.0354379267], [0.0553873777], [0.0276843905], [0.0546463132], [-0.0401588567], [0.0328697301], [0.065973036], [-0.196618587], [0.0221246053], [0.112465359], [0.0223174132], [-0.0470972918], [0.0584409498], [-0.0747007653], [-0.0294873957], [0.139170662], [0.0579220429], [0.0370834917], [0.0612319633], [0.0232369415], [-0.0469689295], [-0.0246317387]]> : tensor<50x1xf32>} : () -> tensor<50x1xf32>\n  %cst_19 = \"std.constant\"() {value = dense<[[-0.118789054], [-0.150531322], [0.105239697], [-0.173643872], [0.160237283], [0.0107928514], [-0.198674187], [0.0154602248], [0.0970707982], [-0.108384632], [-0.115311287], [-0.0935376808], [0.11711859], [-0.0941676795], [0.00812822115], [-0.128967389], [-0.110527478], [-0.190464199], [-0.172638953], [0.0209101569], [0.127490789], [-0.112368338], [-0.19475773], [-0.171315536], [0.0347547121], [0.273828208], [0.227361962], [-0.135758206], [-0.0840675234], [-0.168238491], [-0.167116389], [7.288100e-03], [0.0473411977], [-0.0545123033], [-0.0801371857], [0.147885159], [0.00956721231], [0.060539484], [0.0615430064], [0.00659863884], [0.115876272], [-0.0631224364], [0.0164730027], [-0.177334785], [0.24519752], [0.15712069], [-0.156344488], [-0.137766287], [-0.202563971], [-0.117554381]]> : tensor<50x1xf32>} : () -> tensor<50x1xf32>\n  %cst_20 = \"std.constant\"() {value = dense<\"0xD21A04BCC803C2BBEEFE053E90B784BDD6AB383CF77CEC3D7B77ACBD34A27D3D6E6CCBBD61F20C3DEB8EB23DA98DFA3C98E66E3D9315B53D6CCF57BEF454A2BD34A144BD8109D1BDB144983D98DF38BD2C4D7C3CBD2FC9BD63AD24BCCEE123BD3AA21E3D67C625BDE287053D7B06F53D7DF17EBDC45266BD588E07BEFEC70A3D4FB3133EB0A7A03D54C7B7BD29B9373DE0337DBDC194023D5261C13C3DDC8F3D1184C3BD94F3C33CF1B6F73CDF7C573C130E623B5B46A43C48E1AABD1B0E843D4426083ECF3A943AAB58363E37B3503CCB3721BC5915DC3D0AE8F8BA2E6AF43CD64ADABC66CBA7BCE8E67FBD0732C63DCE7A50BE0B3B243E90138A3D0CF0B93DCB2E76BD50192E3D202178BD80D4393D5CE60A3E3A4C8BBD2EF0C9BDC4E4163C1F9E1A3E76AC353DC431173D3BA69CBDF717C33D33DAF7BD67CAB13DE1C718BE080864BCC136C9BDF1A94F3C2A80A83DFC99073C7F602F3DC58ABCBDBE37513D88FF75BE82BF1D3E21E6DF3C56425F3DBB1A09BEE90D9DBD431C01BE0CC2623DE29FBC3A7EFE853D8E59C73CC0FB4D3E1A0E01BDA821B53D722F6EBC60C3323EBF11D6BCA8ED95BCD5896FBE3AD046BD4BDE4ABE5CF331BC2DA94FBD283D65BC003B433D3D985FBD5E00D2BD3A24833D9B48F93CEA1C55BED3281FBD63BE7ABDFBEB1FBD1F0F083EA94041BD6EC420BD3434F93C7D2CCF3C76840BBDA22371BD6E23603E2AAC313D7AABBFBD44AE133D30B22A3EC185513D16015EBDFC4FF83DE211E93BDA25E13D36728FBD10EA053E7ED08ABD85474ABCE0C7C03DCC710EBECA30DBBC2959CC3B4555A13BBE6B093D05EF17BDB2BF81BDC55BF73D98C938BDD6A8A8BD01F1193CE7F7493EC168E9BC73DC393CC26CF03A9AF770BD76598FBC2F10C63C4DA5C5BCF150163DC699B8BC860EEBBC76606E3E738383BDEC5E26BEEEDD47BB529804BED48A043D6057C4BD1A6290BCFE43083ED92994BD0463FBBDFF7D913C4584C3BD7F31F93D386B45BDDBE4C1BD2C...\n  %cst_21 = \"std.constant\"() {value = dense<\"0x5807E23D0FDB853E585B79BCDB1B33BDDC30FC3D546B733C09AD2FBD28146CBCEC21E3BC0C8F67BD809200BE9F5A17BE8EAEFF3BCBAFDF3DD47ABDBC8C5ED63DBA8BE83CD3DD83BCDC4C2E3EA2A44BBDB6D68A3D198BA73DACA8453D28E350BEFA15B23DECAC47BE2AFD50BDFBE2193DEBC970BD4A3ECA3D0757AABCA13822BE33410E3D8CFB043D94B9143DD5D9AFBDC286BABB3C2CF53D113212BE2A5CAE3D8B2E913D0E660A3D48EA56BD81DEDB3DABBCFC3DAF63A43DD4B301BEB746AFBD61E6AE3C07DD5DBCDA40BABDE784003E7ADF523E358213BDC39080BDB20620BED11811BBFE8EE1BC24FD3EBE0FCB2FBD0D15783BC87C713C9F56EC3C1555C0BC001AB1BA831DC13D8478363D704B89BDC52A17BDCB40B3BC4F6E0D3DBEEAE73D26372FBE1C436BBC0C9E3E3EBB8A1EBEF83F453D0699363D62858BBD68D1063DBCA9613DC772FDBD8ABDFE3D42594F3D1DC328BCB6343DBC9C85093D07DE1CBC52814C3C4D884CBD916118BEB2E6223D390D7BBB8B8BB53C67EEF23D0FAA2B3E370CB33CC4F58FBDA48408BE0A9417BD996C5BBDE5DB0C3E9B9A06BD73F615BCDA2AB6BD0A280ABD744883BCC053403DF80DAEBD137A8FBCF2BE983D6A42DFBCF52812BD3D22C13D0134B8BD90B8993D9AB21D3E276DECBD3F952C3E2D7BD83D562904BE1C200C3EC55A3CBE4EE9A8BD1525ED3D9482F53B97102C3D3C66B83DAFF75B3DBF8C79BD07532FBE688F2D3D06EACD3C3550063EF369D63DF4A790BD148DE23C04FE3C3D6FF149BD35C00C3D71631ABDEFA40D3E75EB18BE2A6B2D3D13A22CBD9789033E0ADAC9BD633F143E69EDC8BC598921BD2EFF933D4169013EAD83283BC3090A3B3D42D73C5A62B03D059B8D3D9CB8073C2C1F8FBDDA64923DC5871F3EA530EC3D58F42A3D18A94E3DA81CBFBD28562C3B9ABBCC3D89B52A3DAB8D423D079939BED8EA9DB9AF70823E712373BD93165ABD3FC4003E1E0A21BE75BAD33DC5E915BE9355343D854D5F3BAED9F4BB61...\n  %cst_22 = \"std.constant\"() {value = dense<\"0x6B28D03C722883BD9D1F01BD7DA2843DE17FC83B0B86B3BD378FB53D5050C83D425F353B258DD8BD146D29BDED427F3DAB8FAF3CB0BC96BD2F820E3EE84A3B3DFF88DB3D5674093DE3C1B3BD8701D93DBCAAD1BDD7E9E13D217C9F3D3BE68FBCDF991FBC12C9A6BD26489B3BB50492BDAA31AFBD23F8B33DAA678C3AA26223BEAF8E90BD45AD9D3C310B1E3D468E4BBD996BB1BD2025903D68E967BD79639C3DE50A82BD7B5306BE256B583B6951933CEF45693D24CBFA3D9CC652BEF4A5B53C7978BEBD624426BDA247C6BCA66E4D3E6694EABC3F0B843D6465A5BD0F6D163E93BF4A3C2BE2173E40C7D83D2EDF29BE16610F3EC9FC90BD85630A3D4F0F37BB0C1B2B3C911085BD521E293BC8BF9CBCA7DA25BE316EF53D9E84323D71B9673D965A3A3BBF30DB3D73C4843D02711BBDECAF08BE56414E3D087ABEBD09E306BD8CF5E5BD86A18FBDDB10A73DBF1235BDF2FCBABC6530FE3B0A5C193C8E6693BD3BA812BE979E80BEA4753F3DE01B46BC07D0843B24EF6E3BAADF323DE3B96BBDD0A8763D37089CBD74AD3DBDF78012BD2CD2053EE5BE843D90F7C93D7AC04EBD16337E396813F0BB824344BB74EAE23BBEA5273D528AC13CF1A2033DF6A2483D1BDFAE3D66C9B03D5E463DBCF20B6EBD8555CCBCD31501BE4185C2BDD9BDB6BC0C71B9BB7F64FC3D2A9335BD884172BDDCF1BE3D055D343D8ED77E3D1A1922BD6415DB3B4BFCEA3DE48F183D6A63A6BB30B30B3DA1009C3D58D91A3D80EED83D5B0C803C41D70B3DEBB2643DE0A804BC20C0F1BBFF57E73DB247F1BC3B4BB8BDA363383D47731F3D3C040B3EB43B6D3D2557BB3D20A37FBD418F65BD622548BECBDD4DBEF78DEB3DAB83E73C549B10BD8FE122BDFB1EE4BD1FADDA3D7A7CB43CAD35733DF27361BEEE6EFBBD88571ABD08183D3D1D00163E5074223E358CBB3C9A31E33C5D7736BD192683BD360D0DBEABB4B1BDD298463D4165123C1152493CD9E51E3E45DF03BC1399133EEB39783D1877AD3DF6...\n  %cst_23 = \"std.constant\"() {value = dense<\"0xC190E13A9DFAE63DD537ACBC197010BED75B4DBE952F143E5BE89EBCC36B0F3ED7E9DBBDE46CC9BD5CF5263ED8561C3E16AD4C3E3666873BBAB84DBD6EDAB0BDFC6E593DF2EB8EBD62901B3E66F5AC3CC335303EB594843EB9ACBABD4EECC3BC62692A3E74B088BEF27EB2BC3638243D8A5DAC3D10DB613E6A1C3ABE9F5DCCBCB519E43D4D776B3E9F70E2BC546E3A3EE8D3283EEA82D8BD328E60BE46FBA6BDCE43FA3C78906CBDD014373E66C9E53DD8479D3BBF09CD3D0FCD97BCC326DDBC2B1FC13D936A35BEF54ACE3C0321753D99259A3D893200BD981408BD363C08BD910F813DDBE0023E1D60D7BDB6F8C9BD0293B0BDD458D7BDA8B3163E154F2ABCEC2595BD31B301BDD358E93D6B48023E8CEE0D3E7C1F19BDEBD5973D06C8683D285696BDFED72F3CDD20C73DF6F85DBDA0A1AABCBE6C01BE52CEB93D25690F3D30CA11BC5B70153AEB1F6CBD303098BC39BE8DBDC668A93DD4B291BDC5C9D63C7679B0BDAE9DB13D8425A0BD140D2E3D2B34D7BCAF0B8FBC5F9F5D3C714DC8BDB30165BEDE3CCD3D40696E3DDF2882BD9071293BC5E1B63D460884BA69A800BE6A4C68BD649D893E0C7DD0BD4741113D52E0393C44D6353C545C1E3E5284C63D7C0DC5BDB0F80A3E561F09BDAA64E33DC0C194BDC4FFCB3DB1C7A13D03367C3D1D5BE8BC138617BD0CC2EC3C2C30FFBD85C6353D1F4E9FBD4AD2043D0A9A05BC7479D93D36311B3D4AA4DA3B40918ABC0CE1A1BC71799DBDE556323DE052F03DD2191BBD9869ED3DF23E86BB5156F83CDAF7183DFC034F3D70428E3D74D578BD5F02D5BDACB5983D8C64A9BB53C3653D1C70DE3DC46071BD2928193EF8C73A3E7D32A63C11F3BCBDF7D3923DDACE66BD1B7D3C3DA5C95A3D7213A2BD43D64CBB1815813D7DA4873DC736A23D92ECEC3DC6724CBD6288B5BDC460693D4091A7BD219356BD4845B43D24FA9BBD23DF2A3DFF2D7ABDAF853CBE5E6FA7BD995F1ABE869BDDBC64D71ABDDC12FABC391389BB7E15C3BDC5...\n  %cst_24 = \"std.constant\"() {value = dense<[0.0385252535, 0.0919528603, 0.0930301398, 0.0793817713, -0.00610548723, 0.1072945, 0.105855145, 0.0912485197, 0.074915871, 0.0729396045, 0.094424121, 0.0896379873, 0.10206788, 0.100246951, 0.0986221283, 0.0161944814, 0.0294561628, 0.100138724, 0.0650681481, 0.10835766, 0.0782021507, 0.0886388421, 0.0991026312, 0.0982290729, 0.0885071754, 0.0768193156, 0.0963935926, 0.0229044333, 0.109834775, 0.0955452174, 0.104672104, 0.0968332216, 0.0631101206, 0.0747872517, 0.0955374092, 0.0823748111, 0.0377593935, 0.0087065231, 0.0838861092, 4.861930e-02, 0.0863550454, 0.0481495149, 0.0928135141, 0.114136897, 0.101931386, 0.0352602042, 0.0942670852, 0.110082865, 0.0701992288, 0.0964862555]> : tensor<50xf32>} : () -> tensor<50xf32>\n  %cst_25 = \"std.constant\"() {value = dense<[1.11973608, 1.07384276, 1.04421484, 1.06934941, 1.03786671, 1.07370472, 1.06424272, 1.05851364, 1.08160436, 1.00495303, 0.995654404, 1.086270e+00, 1.06865394, 1.09881091, 1.09596646, 1.03887606, 1.01958644, 1.04396498, 1.05683815, 1.04761875, 1.02713048, 1.08004928, 1.05154812, 1.05144155, 1.06337965, 1.07995737, 1.0900861, 1.03099811, 1.05711782, 1.05809069, 1.09585178, 1.1098789, 1.09598219, 1.07533956, 1.04278493, 1.04308426, 1.03601766, 1.03216743, 1.07169616, 1.04925752, 1.08217931, 1.00862765, 1.08704376, 1.09514213, 1.06098521, 1.10285544, 1.06197679, 0.997227728, 1.00807667, 1.06656396]> : tensor<50xf32>} : () -> tensor<50xf32>\n  %cst_26 = \"std.constant\"() {value = dense<[-0.00256196875, -0.0195972677, 0.0272423532, -0.0221462622, -0.0474788696, 0.0262373574, -0.0100249145, 7.061920e-02, -0.008647006, -0.0774091556, 0.0898322984, 0.0750894919, 0.0120067056, 0.0895057544, -0.0369343944, -0.0554357655, -0.0329123028, 0.0653700382, 0.0416060202, 0.0649884269, 0.0783089175, 8.373730e-02, -0.0855407268, -0.00810862146, 0.0762974321, -0.0574267097, 0.00878048781, 5.369750e-02, 0.0113557111, 0.102378018, -0.0388481319, 0.059581127, 0.0283251163, 0.0856564715, -0.0546750054, 0.0701800585, 0.0566003434, -0.0568379462, -0.00314413174, -0.041054517, -0.0203147233, -0.0260091629, 0.0907083079, 0.0252957661, 0.0191341322, 0.095912382, 0.0484596975, -0.0637877062, 0.0768638253, -0.0779313594]> : tensor<50xf32>} : () -> tensor<50xf32>\n  %cst_27 = \"std.constant\"() {value = dense<[0.122182965, 0.0762969851, 0.0633910894, 0.0457588658, 0.086156331, 0.0631068349, 0.0629495382, 0.116088487, 0.0578842387, 0.113869362, 0.0614027902, 0.0783151686, 0.0695887357, 0.085233815, 0.103950717, 0.0490449592, 0.0899416655, 0.109323345, 0.0878217071, 0.122022115, 0.108919211, 0.094682753, 0.116173774, 0.0776174515, 0.0513077155, 0.0712187067, 0.0776112675, 0.100603059, 0.102148674, 0.121780641, 0.0648362041, 0.107180469, 0.052722428, 0.0912667513, 0.065190807, 0.115827061, 0.114818417, 0.0795794874, 0.0790686681, 0.105933711, 0.0624012984, 0.110954665, 0.086871691, 0.109725662, 0.0588492863, 0.0676702037, 0.125739813, 0.126566827, 0.123788945, 0.115322739]> : tensor<50xf32>} : () -> tensor<50xf32>\n  %cst_28 = \"std.constant\"() {value = dense<[[0.178224161], [-0.0656869262], [-0.0183427632], [0.0141707249], [0.114808142], [-0.00802518893], [-0.0213030446], [0.0132051418], [-0.101445153], [0.0267164707], [0.0880010873], [0.0733811334], [0.0198560096], [0.0819314792], [-0.124124669], [0.0635395199], [-0.187418878], [-0.0520590693], [-0.149822161], [0.0150387818], [0.0100812893], [-0.169342235], [0.0395837799], [-0.0270073786], [-0.213698149], [-0.104615383], [-0.0310258772], [0.0799130722], [-0.0187005177], [0.0423375219], [0.0043713348], [0.0680897235], [-0.024121508], [-0.0475225896], [-0.0174701661], [0.0152270142], [0.0419395491], [0.0802237242], [-0.0542263798], [0.0678651407], [-0.088202171], [0.0494968481], [0.0334197134], [-0.00613475777], [-0.0230992604], [-0.232102334], [0.0965574309], [0.011525888], [0.0734077618], [0.0185839497]]> : tensor<50x1xf32>} : () -> tensor<50x1xf32>\n  %cst_29 = \"std.constant\"() {value = dense<[[0.00181107013], [0.016922133], [0.0158239044], [0.00645201466], [0.0558935031], [-0.127782077], [0.017376326], [2.798500e-03], [0.0129403546], [-0.00253190729], [-0.23307085], [-0.0966821834], [-0.099169895], [-0.147935122], [-0.0929830893], [0.0472261421], [-0.0164885987], [-0.0640415773], [0.00750430254], [0.0141807497], [-9.39268502E-4], [-0.0924244895], [-0.106891423], [0.0152369747], [-0.0266191103], [1.265640e-02], [0.0110388491], [0.0461685807], [0.0255956389], [-0.125689223], [0.00427227933], [-3.053200e-03], [0.0108599234], [-0.0747064501], [0.0218505915], [0.00296667079], [0.0526954569], [0.0512688719], [-0.0629580691], [0.0318550617], [0.0129381362], [0.0151974009], [2.15620967E-5], [0.00623312033], [0.0148870805], [0.00527068041], [0.0897306129], [0.00250982819], [-0.23655574], [-9.969010e-02]]> : tensor<50x1xf32>} : () -> tensor<50x1xf32>\n  %cst_30 = \"std.constant\"() {value = dense<[[0.176361114], [-0.0276478175], [-0.085851565], [0.0299187601], [0.0653374493], [5.9792574E-4], [-0.110771313], [-6.393330e-02], [0.0242491197], [0.0898427292], [-0.0566177219], [-0.0281213075], [-0.00192800805], [-0.0335888639], [-0.0120664462], [0.0854526609], [-0.0818251594], [0.0325966552], [-0.1689969], [-0.0588883534], [-0.122249581], [-0.111736014], [0.031505879], [0.0963751152], [-0.13048394], [0.151258156], [0.0394197442], [-0.0610318966], [0.212750077], [-0.0967476665], [0.0653723404], [-0.0406590663], [-7.096330e-02], [-0.0297530238], [0.062044274], [-0.0381052792], [-0.102309711], [0.0503750145], [2.478990e-02], [0.0577259324], [0.111129217], [0.0315307751], [-0.0269995276], [-0.136880964], [-0.0731287599], [-0.144794881], [-0.0175896157], [0.135368168], [-0.0488352068], [0.094606474]]> : tensor<50x1xf32>} : () -> tensor<50x1xf32>\n  %cst_31 = \"std.constant\"() {value = dense<[[0.0915109589], [-0.126088977], [0.114589803], [0.243224874], [0.0362951495], [-0.234018043], [0.231250063], [0.0104730502], [-0.123739034], [0.0166239422], [-0.182811975], [-0.162465811], [-0.179659054], [-0.100098506], [-0.0676029622], [0.207581699], [-0.181941733], [-0.163295701], [-0.121368602], [0.00419439562], [0.0337850302], [-0.022935221], [0.0128512774], [0.179208621], [-0.184828356], [-0.112556174], [-0.081688784], [0.0302210059], [0.154478252], [0.0113835838], [-0.197089747], [-0.138782606], [-0.114823818], [0.108554922], [0.176065266], [0.0141622433], [0.0211071651], [0.0522131771], [-0.119490489], [0.0203881264], [-0.0858941897], [0.0415024869], [-0.148191497], [0.0902152284], [0.199486688], [-0.159429878], [0.166835636], [0.00771739427], [0.0156993736], [0.0205142908]]> : tensor<50x1xf32>} : () -> tensor<50x1xf32>\n  %cst_32 = \"std.constant\"() {value = dense<\"0xF7AA37BC9CB2723CE29BAE3C458A16BDB23BF6BC926D703C3BD5A33C711A2F3D4FC6FCBC0ECB31BDC0CD303C3024A33C1A909E3CD5A7AA3C3FC02C3D3206D4BC6A94F83C9E45E9BC3BB5B63C0910583D613C243DD0DB873CD15258BDE8ACAA3B98893E3CA23D41BC3CE229BD1DC63B3D253BEC3BECC9BF3C3E4653BC64AFDB3CE2FD833CA513EE3BF624DBBC9098E93C20C0043DD5C421BDD5DD4EBCBA1E56BD244D59BCD62109BD80D1873C1DEE933CC2AA5B3C8E91AD3C5ECB013D80FCABBCFFB5AD3CA2B8FCBC5609F5BBFE6AC33B0BD9913C9AEBB43CFFBDB33C7E40873C661FCDBCF02841BCF93B913BBCBB593C121AF5BBE110CD3C743B55BBF8F15A3CF4D0C8BB36CA78BC7F618F3BBF3529BB80EC90BBF2DA0DBD3AB790BCD753B03BBA443BBC3A57DD3CD4C7993B2EAC9DBCA42D003CC692ACBC88692E3CAA1A6BBB9E1C013C5C61B8BC9EC3A03C88A9DC3A08F782BBB4B9C9BB6F308ABBE041263BAFBA0A3C229F773C3A751EBB50CC243AF491433D7F4B85BB144F4B3C3A49C23C51DADFBC3014B938AC8C4BBC98EFA23BDCBC94BB16277A3BBD7D5B3C3CE734BC0B4816BDD6AEB43CC84D953C3B2BE63C2A28EBBC540821BD0A035C3A168F633A4C03973C7463073D9A53203D2F2808BDE5ADAD3C3B1466BC51AE4F3CA2A3093D72BD0C3D468F703C78B81BBD8DCFCBBBCE6B31BB8C203DBCFCBC02BC4E48983C7ABB97BC0158AA3C27CF80BCA9257D3CF085733CACA7CC3C388A95BC0271473DFB54FD3C005B3DBD45AF80BC946347BDAD040FBCF37804BD5644773C6221F83C514C9B3C48D1A03CE3E5473D905E25BD50D9123DD89A2BBCAB86923C84F655BA313A9E3CD077893B172DA03AFB060ABCF41B8CBC364D9EBB1EBDDD3C6333CC3B60AC3A3A36C7953C7136073DF0EC3B3C221B39BC1AC853BB6A5A2FBCCC738739D8BC963B10D83CBD8AFE983AE311B63C00EA373C562DBC3C40FB1FBA8A54D3BCA36438BC0C3B5FBC3B86A43C303305BB447C11BCA2...\n  %cst_33 = \"std.constant\"() {value = dense<0.304437459> : tensor<1x1xf32>} : () -> tensor<1x1xf32>\n  %cst_34 = \"std.constant\"() {value = dense<0> : tensor<1xi32>} : () -> tensor<1xi32>\n  %cst_35 = \"std.constant\"() {value = dense<1> : tensor<1xi32>} : () -> tensor<1xi32>\n  %0 = \"tfl.shape\"(%arg0) : (tensor<?x250x1xf32>) -> tensor<3xi32>\n  %1 = \"tfl.strided_slice\"(%0, %cst_34, %cst_35, %cst_35) {begin_mask = 0 : i32, ellipsis_mask = 0 : i32, end_mask = 0 : i32, new_axis_mask = 0 : i32, shrink_axis_mask = 1 : i32} : (tensor<3xi32>, tensor<1xi32>, tensor<1xi32>, tensor<1xi32>) -> tensor<i32>\n  %2 = \"tfl.pack\"(%1, %cst_3) {axis = 0 : i32, values_count = 2 : i32} : (tensor<i32>, tensor<i32>) -> tensor<2xi32>\n  %3 = \"tfl.fill\"(%2, %cst_1) : (tensor<2xi32>, tensor<f32>) -> tensor<?x50xf32>\n  %4 = \"tfl.reverse_v2\"(%arg0, %cst_35) : (tensor<?x250x1xf32>, tensor<1xi32>) -> tensor<?x250x1xf32>\n  %5 = \"tfl.unidirectional_sequence_lstm\"(%4, %cst_16, %cst_17, %cst_18, %cst_19, %cst_8, %cst_9, %cst_10, %cst_11, %cst_7, %cst_7, %cst_7, %cst_12, %cst_13, %cst_14, %cst_15, %cst_7, %cst_7, %3, %3, %cst_7, %cst_7, %cst_7, %cst_7) {cell_clip = 1.000000e+01 : f32, fused_activation_function = \"TANH\", proj_clip = 0.000000e+00 : f32, time_major = false} : (tensor<?x250x1xf32>, tensor<50x1xf32>, tensor<50x1xf32>, tensor<50x1xf32>, tensor<50x1xf32>, tensor<50x50xf32>, tensor<50x50xf32>, tensor<50x50xf32>, tensor<50x50xf32>, none, none, none, tensor<50xf32>, tensor<50xf32>, tensor<50xf32>, tensor<50xf32>, none, none, tensor<?x50xf32>, tensor<?x50xf32>, none, none, none, none) -> tensor<?x250x50xf32>\n  %6 = \"tfl.reverse_v2\"(%5, %cst_35) : (tensor<?x250x50xf32>, tensor<1xi32>) -> tensor<?x250x50xf32>\n  %7 = \"tfl.unidirectional_sequence_lstm\"(%arg0, %cst_28, %cst_29, %cst_30, %cst_31, %cst_20, %cst_21, %cst_22, %cst_23, %cst_7, %cst_7, %cst_7, %cst_24, %cst_25, %cst_26, %cst_27, %cst_7, %cst_7, %3, %3, %cst_7, %cst_7, %cst_7, %cst_7) {cell_clip = 1.000000e+01 : f32, fused_activation_function = \"TANH\", proj_clip = 0.000000e+00 : f32, time_major = false} : (tensor<?x250x1xf32>, tensor<50x1xf32>, tensor<50x1xf32>, tensor<50x1xf32>, tensor<50x1xf32>, tensor<50x50xf32>, tensor<50x50xf32>, tensor<50x50xf32>, tensor<50x50xf32>, none, none, none, tensor<50xf32>, tensor<50xf32>, tensor<50xf32>, tensor<50xf32>, none, none, tensor<?x50xf32>, tensor<?x50xf32>, none, none, none, none) -> tensor<?x250x50xf32>\n  %8 = \"tfl.concatenation\"(%7, %6) {axis = 2 : i32, fused_activation_function = \"NONE\"} : (tensor<?x250x50xf32>, tensor<?x250x50xf32>) -> tensor<?x250x100xf32>\n  %9 = \"tfl.reshape\"(%8, %cst_2) : (tensor<?x250x100xf32>, tensor<2xi32>) -> tensor<?x25000xf32>\n  %10 = \"tfl.fully_connected\"(%9, %cst_32, %cst_0) {fused_activation_function = \"NONE\", keep_num_dims = false, weights_format = \"DEFAULT\"} : (tensor<?x25000xf32>, tensor<50x25000xf32>, tensor<50xf32>) -> tensor<?x50xf32>\n  %11 = \"tfl.reshape\"(%10, %cst_5) : (tensor<?x50xf32>, tensor<2xi32>) -> tensor<?x1xf32>\n  %12 = \"tfl.fully_connected\"(%11, %cst_33, %cst) {fused_activation_function = \"NONE\", keep_num_dims = false, weights_format = \"DEFAULT\"} : (tensor<?x1xf32>, tensor<1x1xf32>, tensor<1xf32>) -> tensor<?x1xf32>\n  %13 = \"tfl.reshape\"(%12, %cst_6) : (tensor<?x1xf32>, tensor<3xi32>) -> tensor<?x50x1xf32>\n  %14 = \"tfl.shape\"(%13) : (tensor<?x50x1xf32>) -> tensor<3xi32>\n  %15 = \"tfl.strided_slice\"(%14, %cst_34, %cst_35, %cst_35) {begin_mask = 0 : i32, ellipsis_mask = 0 : i32, end_mask = 0 : i32, new_axis_mask = 0 : i32, shrink_axis_mask = 1 : i32} : (tensor<3xi32>, tensor<1xi32>, tensor<1xi32>, tensor<1xi32>) -> tensor<i32>\n  %16 = \"tfl.pack\"(%15, %cst_3, %cst_4) {axis = 0 : i32, values_count = 3 : i32} : (tensor<i32>, tensor<i32>, tensor<i32>) -> tensor<3xi32>\n  %17 = \"tfl.reshape\"(%12, %16) : (tensor<?x1xf32>, tensor<3xi32>) -> tensor<?x50x1xf32>\n  \"std.return\"(%17) : (tensor<?x50x1xf32>) -> ()\n}) {arg0 = {tf_saved_model.index_path = [\"inputs\"]}, result0 = {tf_saved_model.index_path = [\"om\"]}, sym_name = \"serving_default\", tf.entry_function = {control_outputs = \"\", inputs = \"serving_default_inputs:0\", outputs = \"StatefulPartitionedCall:0\"}, tf_saved_model.exported_names = [\"serving_default\"], type = (tensor<?x250x1xf32>) -> tensor<?x50x1xf32>} : () -> ()\n",
            "\nDuring handling of the above exception, another exception occurred:\n",
            "\u001b[0;31mConverterError\u001b[0m                            Traceback (most recent call last)",
            "\u001b[0;32m<ipython-input-8-29825735f2c1>\u001b[0m in \u001b[0;36m<module>\u001b[0;34m()\u001b[0m\n\u001b[1;32m      2\u001b[0m \u001b[0;34m\u001b[0m\u001b[0m\n\u001b[1;32m      3\u001b[0m \u001b[0mconverter\u001b[0m \u001b[0;34m=\u001b[0m \u001b[0mtf\u001b[0m\u001b[0;34m.\u001b[0m\u001b[0mlite\u001b[0m\u001b[0;34m.\u001b[0m\u001b[0mTFLiteConverter\u001b[0m\u001b[0;34m.\u001b[0m\u001b[0mfrom_keras_model\u001b[0m\u001b[0;34m(\u001b[0m\u001b[0mm\u001b[0m\u001b[0;34m[\u001b[0m\u001b[0;34m\"k_model\"\u001b[0m\u001b[0;34m]\u001b[0m\u001b[0;34m)\u001b[0m\u001b[0;34m\u001b[0m\u001b[0;34m\u001b[0m\u001b[0m\n\u001b[0;32m----> 4\u001b[0;31m \u001b[0mm\u001b[0m\u001b[0;34m[\u001b[0m\u001b[0;34m\"k_model_float_tflite\"\u001b[0m\u001b[0;34m]\u001b[0m \u001b[0;34m=\u001b[0m \u001b[0mconverter\u001b[0m\u001b[0;34m.\u001b[0m\u001b[0mconvert\u001b[0m\u001b[0;34m(\u001b[0m\u001b[0;34m)\u001b[0m\u001b[0;34m\u001b[0m\u001b[0;34m\u001b[0m\u001b[0m\n\u001b[0m\u001b[1;32m      5\u001b[0m \u001b[0mprint\u001b[0m\u001b[0;34m(\u001b[0m\u001b[0;34m\"no quantization lite model conversion completed\"\u001b[0m\u001b[0;34m)\u001b[0m\u001b[0;34m\u001b[0m\u001b[0;34m\u001b[0m\u001b[0m\n\u001b[1;32m      6\u001b[0m \u001b[0;34m\u001b[0m\u001b[0m\n",
            "\u001b[0;32m/usr/local/lib/python3.6/dist-packages/tensorflow/lite/python/lite.py\u001b[0m in \u001b[0;36mconvert\u001b[0;34m(self)\u001b[0m\n\u001b[1;32m    747\u001b[0m         \u001b[0mInvalid\u001b[0m \u001b[0mquantization\u001b[0m \u001b[0mparameters\u001b[0m\u001b[0;34m.\u001b[0m\u001b[0;34m\u001b[0m\u001b[0;34m\u001b[0m\u001b[0m\n\u001b[1;32m    748\u001b[0m     \"\"\"\n\u001b[0;32m--> 749\u001b[0;31m     \u001b[0msaved_model_convert_result\u001b[0m \u001b[0;34m=\u001b[0m \u001b[0mself\u001b[0m\u001b[0;34m.\u001b[0m\u001b[0m_convert_as_saved_model\u001b[0m\u001b[0;34m(\u001b[0m\u001b[0;34m)\u001b[0m\u001b[0;34m\u001b[0m\u001b[0;34m\u001b[0m\u001b[0m\n\u001b[0m\u001b[1;32m    750\u001b[0m     \u001b[0;32mif\u001b[0m \u001b[0msaved_model_convert_result\u001b[0m\u001b[0;34m:\u001b[0m\u001b[0;34m\u001b[0m\u001b[0;34m\u001b[0m\u001b[0m\n\u001b[1;32m    751\u001b[0m       \u001b[0;32mreturn\u001b[0m \u001b[0msaved_model_convert_result\u001b[0m\u001b[0;34m\u001b[0m\u001b[0;34m\u001b[0m\u001b[0m\n",
            "\u001b[0;32m/usr/local/lib/python3.6/dist-packages/tensorflow/lite/python/lite.py\u001b[0m in \u001b[0;36m_convert_as_saved_model\u001b[0;34m(self)\u001b[0m\n\u001b[1;32m    731\u001b[0m         return super(TFLiteKerasModelConverterV2,\n\u001b[1;32m    732\u001b[0m                      \u001b[0mself\u001b[0m\u001b[0;34m)\u001b[0m\u001b[0;34m.\u001b[0m\u001b[0mconvert\u001b[0m\u001b[0;34m(\u001b[0m\u001b[0mmeta_graph\u001b[0m\u001b[0;34m.\u001b[0m\u001b[0mgraph_def\u001b[0m\u001b[0;34m,\u001b[0m \u001b[0minput_tensors\u001b[0m\u001b[0;34m,\u001b[0m\u001b[0;34m\u001b[0m\u001b[0;34m\u001b[0m\u001b[0m\n\u001b[0;32m--> 733\u001b[0;31m                                    output_tensors)\n\u001b[0m\u001b[1;32m    734\u001b[0m     \u001b[0;32mfinally\u001b[0m\u001b[0;34m:\u001b[0m\u001b[0;34m\u001b[0m\u001b[0;34m\u001b[0m\u001b[0m\n\u001b[1;32m    735\u001b[0m       \u001b[0mshutil\u001b[0m\u001b[0;34m.\u001b[0m\u001b[0mrmtree\u001b[0m\u001b[0;34m(\u001b[0m\u001b[0mtemp_dir\u001b[0m\u001b[0;34m,\u001b[0m \u001b[0;32mTrue\u001b[0m\u001b[0;34m)\u001b[0m\u001b[0;34m\u001b[0m\u001b[0;34m\u001b[0m\u001b[0m\n",
            "\u001b[0;32m/usr/local/lib/python3.6/dist-packages/tensorflow/lite/python/lite.py\u001b[0m in \u001b[0;36mconvert\u001b[0;34m(self, graph_def, input_tensors, output_tensors)\u001b[0m\n\u001b[1;32m    593\u001b[0m         \u001b[0minput_tensors\u001b[0m\u001b[0;34m=\u001b[0m\u001b[0minput_tensors\u001b[0m\u001b[0;34m,\u001b[0m\u001b[0;34m\u001b[0m\u001b[0;34m\u001b[0m\u001b[0m\n\u001b[1;32m    594\u001b[0m         \u001b[0moutput_tensors\u001b[0m\u001b[0;34m=\u001b[0m\u001b[0moutput_tensors\u001b[0m\u001b[0;34m,\u001b[0m\u001b[0;34m\u001b[0m\u001b[0;34m\u001b[0m\u001b[0m\n\u001b[0;32m--> 595\u001b[0;31m         **converter_kwargs)\n\u001b[0m\u001b[1;32m    596\u001b[0m \u001b[0;34m\u001b[0m\u001b[0m\n\u001b[1;32m    597\u001b[0m     calibrate_and_quantize, flags = quant_mode.quantizer_flags(\n",
            "\u001b[0;32m/usr/local/lib/python3.6/dist-packages/tensorflow/lite/python/convert.py\u001b[0m in \u001b[0;36mtoco_convert_impl\u001b[0;34m(input_data, input_tensors, output_tensors, enable_mlir_converter, *args, **kwargs)\u001b[0m\n\u001b[1;32m    558\u001b[0m       \u001b[0minput_data\u001b[0m\u001b[0;34m.\u001b[0m\u001b[0mSerializeToString\u001b[0m\u001b[0;34m(\u001b[0m\u001b[0;34m)\u001b[0m\u001b[0;34m,\u001b[0m\u001b[0;34m\u001b[0m\u001b[0;34m\u001b[0m\u001b[0m\n\u001b[1;32m    559\u001b[0m       \u001b[0mdebug_info_str\u001b[0m\u001b[0;34m=\u001b[0m\u001b[0mdebug_info_str\u001b[0m\u001b[0;34m,\u001b[0m\u001b[0;34m\u001b[0m\u001b[0;34m\u001b[0m\u001b[0m\n\u001b[0;32m--> 560\u001b[0;31m       enable_mlir_converter=enable_mlir_converter)\n\u001b[0m\u001b[1;32m    561\u001b[0m   \u001b[0;32mreturn\u001b[0m \u001b[0mdata\u001b[0m\u001b[0;34m\u001b[0m\u001b[0;34m\u001b[0m\u001b[0m\n\u001b[1;32m    562\u001b[0m \u001b[0;34m\u001b[0m\u001b[0m\n",
            "\u001b[0;32m/usr/local/lib/python3.6/dist-packages/tensorflow/lite/python/convert.py\u001b[0m in \u001b[0;36mtoco_convert_protos\u001b[0;34m(model_flags_str, toco_flags_str, input_data_str, debug_info_str, enable_mlir_converter)\u001b[0m\n\u001b[1;32m    186\u001b[0m       \u001b[0;32mreturn\u001b[0m \u001b[0mmodel_str\u001b[0m\u001b[0;34m\u001b[0m\u001b[0;34m\u001b[0m\u001b[0m\n\u001b[1;32m    187\u001b[0m     \u001b[0;32mexcept\u001b[0m \u001b[0mException\u001b[0m \u001b[0;32mas\u001b[0m \u001b[0me\u001b[0m\u001b[0;34m:\u001b[0m\u001b[0;34m\u001b[0m\u001b[0;34m\u001b[0m\u001b[0m\n\u001b[0;32m--> 188\u001b[0;31m       \u001b[0;32mraise\u001b[0m \u001b[0mConverterError\u001b[0m\u001b[0;34m(\u001b[0m\u001b[0mstr\u001b[0m\u001b[0;34m(\u001b[0m\u001b[0me\u001b[0m\u001b[0;34m)\u001b[0m\u001b[0;34m)\u001b[0m\u001b[0;34m\u001b[0m\u001b[0;34m\u001b[0m\u001b[0m\n\u001b[0m\u001b[1;32m    189\u001b[0m \u001b[0;34m\u001b[0m\u001b[0m\n\u001b[1;32m    190\u001b[0m   \u001b[0;32mif\u001b[0m \u001b[0mdistutils\u001b[0m\u001b[0;34m.\u001b[0m\u001b[0mspawn\u001b[0m\u001b[0;34m.\u001b[0m\u001b[0mfind_executable\u001b[0m\u001b[0;34m(\u001b[0m\u001b[0m_toco_from_proto_bin\u001b[0m\u001b[0;34m)\u001b[0m \u001b[0;32mis\u001b[0m \u001b[0;32mNone\u001b[0m\u001b[0;34m:\u001b[0m\u001b[0;34m\u001b[0m\u001b[0;34m\u001b[0m\u001b[0m\n",
            "\u001b[0;31mConverterError\u001b[0m: <unknown>:0: error: loc(callsite(callsite(callsite(unknown at \"baseline_1/bidirectional/backward_lstm_m/PartitionedCall@__inference__wrapped_model_8108\") at \"StatefulPartitionedCall@__inference_signature_wrapper_16010\") at \"StatefulPartitionedCall\")): We cannot duplicate the value since it's not constant.\n\n<unknown>:0: note: loc(\"StatefulPartitionedCall\"): called from\n<unknown>:0: note: loc(callsite(callsite(callsite(unknown at \"baseline_1/bidirectional/backward_lstm_m/PartitionedCall@__inference__wrapped_model_8108\") at \"StatefulPartitionedCall@__inference_signature_wrapper_16010\") at \"StatefulPartitionedCall\")): see current operation: %5 = \"tfl.unidirectional_sequence_lstm\"(%4, %cst_16, %cst_17, %cst_18, %cst_19, %cst_8, %cst_9, %cst_10, %cst_11, %cst_7, %cst_7, %cst_7, %cst_12, %cst_13, %cst_14, %cst_15, %cst_7, %cst_7, %3, %3, %cst_7, %cst_7, %cst_7, %cst_7) {cell_clip = 1.000000e+01 : f32, fused_activation_function = \"TANH\", proj_clip = 0.000000e+00 : f32, time_major = false} : (tensor<?x250x1xf32>, tensor<50x1xf32>, tensor<50x1xf32>, tensor<50x1xf32>, tensor<50x1xf32>, tensor<50x50xf32>, tensor<50x50xf32>, tensor<50x50xf32>, tensor<50x50xf32>, none, none, none, tensor<50xf32>, tensor<50xf32>, tensor<50xf32>, tensor<50xf32>, none, none, tensor<?x50xf32>, tensor<?x50xf32>, none, none, none, none) -> tensor<?x250x50xf32>\n<unknown>:0: error: Failed to duplicate values for the stateful op\n\n<unknown>:0: note: see current operation: \"func\"() ( {\n^bb0(%arg0: tensor<?x250x1xf32>):  // no predecessors\n  %cst = \"std.constant\"() {value = dense<-0.00485095195> : tensor<1xf32>} : () -> tensor<1xf32>\n  %cst_0 = \"std.constant\"() {value = dense<[-0.00345666986, -0.00393358059, -0.00371282455, -0.00316686626, -0.00269649085, -0.00288696727, -0.00282564806, -0.00258038612, -0.00309774652, -0.00376508664, -0.00457138754, -0.00452319859, -0.00416954746, -0.00199277559, -0.00420590444, -0.00571686588, -0.00464503188, -0.00424120668, -0.00434884336, -0.0053275954, -0.00633115973, -0.00594567228, 5.57982246E-4, -1.54344074E-4, -0.0018466647, -0.00353229512, 0.00146531221, 0.00235172943, 0.00213338388, 0.00328120217, 0.00396943698, 0.00389144127, -0.0011078153, -0.00695018377, 0.00137493247, 0.00232926873, 0.00353763346, 0.00369567377, 0.00528711686, 0.00703268871, 0.00150696631, 0.00293202861, 0.00400062697, 0.00394761888, 0.00341043528, 0.00214462331, 4.276360e-04, -0.00172673608, 0.00151821529, -0.00152525213]> : tensor<50xf32>} : () -> tensor<50xf32>\n  %cst_1 = \"std.constant\"() {value = dense<0.000000e+00> : tensor<f32>} : () -> tensor<f32>\n  %cst_2 = \"std.constant\"() {value = dense<[-1, 25000]> : tensor<2xi32>} : () -> tensor<2xi32>\n  %cst_3 = \"std.constant\"() {value = dense<50> : tensor<i32>} : () -> tensor<i32>\n  %cst_4 = \"std.constant\"() {value = dense<1> : tensor<i32>} : () -> tensor<i32>\n  %cst_5 = \"std.constant\"() {value = dense<[-1, 1]> : tensor<2xi32>} : () -> tensor<2xi32>\n  %cst_6 = \"std.constant\"() {value = dense<[-1, 50, 1]> : tensor<3xi32>} : () -> tensor<3xi32>\n  %cst_7 = \"std.constant\"() {value} : () -> none\n  %cst_8 = \"std.constant\"() {value = dense<\"0x819318BDF981E4BBE9CBA43D8674CF3D83EE603B2F4D363E4696283CDC4004BC872EE03D6844463E24DACD3D97E5E13B0BC082BC0A3D193EECA1653D443B34BE6578513CE32981BDCAA610BDD00ADF3DBCE0A0BBE15794BD5E2A87BD1B88E4BC9C9DE5BB4B28523E208DE3BD9F7F3DBDBC14AD3D9EFC68BD373C28BEE79F30BDD9553DBEC8494A3C0F4076BCF827F83D9EB723BDECEAC9BCB46182BD58DB453D96DAC33D2B00EE3C95E211BEB44952BDF0BA17BE362D59BE65DA8B3DC72CDDBDF487253EA0F7803ED4F9613D955E30BDBC1BCEBD2562A4BC1F13FEBC67BB683D6AD80FBCCA228ABDE58465BE273B4C3CC36FB03DE1064B3D578F2A3E765FD23DC592A23DD36CF63C784BC3BD0E0D00BD7100E73D3EDBE33DCDD412BED50D16BD89A0083ED9CEE5BBC00ADB3CF0343C3E8E3226BDE8368EBDB8F40F3EF396FC3CBA5EFC3C43B3033DE3D38CBDA049993DF36ED73C12E7243DB9342B3D9C2A4B3D68FF9C3B6B86D4BD4EF2D23BE9BD843D5D6226BE54750E3D1A84C93C70CA8EBD07434E3C355950BD6845C9BD87EDF3BC3CBB293D102200BD158EC1BD49758DBD60A6893DEDBB883C3C98783C2DF018BDA3C224BDDCAC71BDA2D4103EC1F9B43D149E02BE9C42F43DD25FC93D0A18BABDEB29B43DBFB3893D37C3E4BDD2B20E3EA8DCBF3DF7B84BBD2A0E1B3D0D3E8A3DC74D133D1C9ECC3C1A4C08BDCDC0DEBD4D1EE53D6251CF3CA6D84ABDAEE003BEB8B9E4BCA927FE3C7D8C9ABDDD8959BD0639CE3CBB34F1BD31591DBEE4ECE13DF679253E2A8CC3BD59DBDABDAC28E03C714005BDC4DB99BDCAF4C5BC67F7F0BB835C98BD52FC8A3DCF5F423D32BC443D71D133BEE1D207BD0F8017BD49D3763C748FFF3B030A97BDC285D93CDD7D2BBD45AA113D14CA6EBDB036C2BDEFC2623EFACC5BBD17C12BBD4F47023D31C6C83D4E35E63BA2668B3DEF0A71BEA1B188BD11DCC5BC534DF73DF08F88BD757D893D6DBE033E69DB8CBD4163413CAC84263ECAD160BDB7C...\n  %cst_9 = \"std.constant\"() {value = dense<\"0x9ED66FBDA4FFD33D758DEA3D768C9C3C8B00ADBC8C75AC3DE8F464BC09A212BE8096A93DEA827CBD1316A0BDCB0D1F3D3680243E04CC003E887A203B02179FBD7705703D7F7EBCBDDA00F1BC2507343DB75544BDF8DD52BE9471103E7F0CB2BDD21B2BBC8B506B3D38E489BD9BEFB2BD8BC3243EDAF2D3BC883BD33B7449243DBCB3E4BD1ACA10BE4154C9BCE5AB9A3D269A2B3E051690BD454745BE50F28DBD7EA51A3E2226813C81F6503B36F545BDD562D4BC64456F3C856142BECBC27FBC0E4C333C2C66A1BDE1126CBEDF7EA43C4C5396BCE52A743DACE7BDBDA07F87BD9141B13C3E9C11BEADBB863E0BD714BE2F41D6BDEA380B3D0C48E0BBF7EB073E6AC290BD6E929BBD9817803C96706ABB04C0E5BCCD3B92BD4DC8A63D7534C8BD9778313DC3BC0BBE19367E3C496D023E1349F7BD2582B4BD96694A3E76E0AABD04E0903C4D0CE4BA2633A53D66F8843D22BF12BEF9DCF83DA0F8D73B98F7DCBDC51096BD5A2F033D6E1A8EBD0C79BD3DCC32503D315C58BE87B4F5BC6C5C95BDFF3881BDE12FAE3DF06FAEBD534ABEBD9B97D53D1F31093DB72FA1BDD5442E3E33E6013DB7E0D33D50F958BE6874DE3C61B794BD324AC93DCE1AA03D6634F43C98C70ABE82D3603D8C4541BD523A60BD1637BA3D5E95BA3D527587BC34CAF43ABF453CBE4CF4D4BA58F44E3EC7A71FBD325F293D20BF56BD5ECE4D3BD75988BBEDA6AE3D3FB6C5BD14A89EBD73B9163DCB169EBD1664C1BD5AF7BABD970D803DAC9C423ECAE2A63DDA1C4D3EF8B3EFBD1E37063E40BFF53DD1D00CBDC2FE193D916A4E3D51C30E3EC04142BEC70C063D5EB8EA3D72AE8B3DB2E6BEBD646A323E7D4603BE0D320E3DDFE43FBCD54E873DFE51703C9690513D896CB1BC6457B7BDA84A72BD2F4F863D9199933DE988233D2CEC46BDD2DE2CBD8801B23934F8BBBD36C31ABD1F4F52BE8D690EBE946C07BD23E4293CAA20F63C3724863D176F593DACE745BD8EF664BE1FDE573D78E5EA3DCF820A3E69D...\n  %cst_10 = \"std.constant\"() {value = dense<\"0x0AA29BBB750E66BDC63515BCD072803C0896113B4AD5E03D2D9CBA3CAC7426BDBD88DCBD9162363D358F973E5FA823BD170AD8BDED3269BCAD7FDA3D7B31063E454190BD0986BA3DEEAFD3BD71CA43BD38C41B3D39D208BE1C0C9FBDE173A73C78FC24BE0C1D613B2766E83C43BA02BD2C9124BDEA9959BD2A5900BEAE3423BED5A4223E8887663DD5B45EBD15258CBD629F8CBD4285C9BC34389EBD7BBCDB3C35A3AABDE9C8ADBD19A2DF3C40388D3C23151DBEB47A2CBA9DF79E3CA93317BEEB95B53DA7C6AE3DA6F41ABEA90714BC4C63823A7F1458BDB7C08EBB4960403D6062F93DC832D8BD2D2DDEBC291C03BE58BBC33C5B7A1BBDD7CB343E8DD72DBE526916BD34B8A83DE5DDB83CF8ED0DBE8635723C24E4CB3D80C744BCA0421F3EA545DEBD876680BDCE695C3C30E0613BC967F53D1BE4BA3D6ED610BDBF4813BBD560663D3A79393D7ECB9EBD036C2BBEB809413DD64091BDCA31983CD8E674BA989E903D929ACFBD5274AA3D8BBE87BDDB351D3D7BC87F3DE73E303CAC58D2BD1F688BBCD27B133ECB9AECBD149435BEFFA98E3DBB57E5BD84491BBDCE8EBEBDAB1AAA3D7C1FD5B9BA83B3BC525DEE3D295EF73D5983173EAA95B33DF17865BC904D593D60DFF13C4C45B1BC5E15B43D9B02AC3C4963E33D95E4F83D69D208BEBF6B033D3139C8BCC928B7BD9C09513E8E1117BE2A9B23BE8CCC653CD0F55DBC5C7DBB3DFBCAC1BD9A4933BEFF3DD3BDAF42FA3C14A7F33D5CFBF6BD2095153DB2A0C2BDD4643E3D40079DB724C769BD96354C3DCDF50E3EDB4234BCC0052B3DC400043EF09C43BD1C02C4BD764EF5BD539410BEB7A3BE3D9F97A9BD78A4353E18407DBDD6048D3DA95B123C1CED5ABD1ADABABDB159F33DEC7F14BC792E24BE68BDD13C7A74A9BD42B3C6BD5234023E99A4B2BC43A48E3E2000093DB7AF93BDAE630E3EFE6244BE60738EBD24F00EBE386745BDF9A709BE08D919BD2F27E73D7DE4AB3B93BBFE3D6057913C31D2203E46CDC33C16...\n  %cst_11 = \"std.constant\"() {value = dense<\"0x7208E7BC273DA73D8DAB363E5622083C077292BD106DFD3DC61B83BB9D953DBD704BD23DAB16713C76632BBD6921223E76B0E53D2886873D63EFAEBD298030BEB8A9C93D56A7143E5F9E2B3DD6E8A23D6C5B0F3DBADBD4BDF1C44B3EA643CEBDD07BD1BB0E77343EE3528A3DFD3766BE2438583DAE53F6BD210DA1BD6D1026BE7920403ED91C78BE96CEBBBD5C1C143ED95067BCE944CABDE1BCA2BDA381E13CD174AEBD8CF80B3E0AD836BDEC60F4BD138DF93CA687B4BDB68F21BEEEB4283D252A833EA4A519BE1218BE3D5E8EAF3DB01BC83D858E1F3DC97ABBBE28246F3DFE96F3BD0029C23BE3091C3E1335893ECC7413BD0636883D08C3553C909D133ED12BEB3D24C4E4BDFE25413E299BDBBD4626C9BDFD4650BD5C12B53D9A5F62BE1A6987BD26FD01BEA71404BE824B423EAB11213D05C751BD05B2203E2B0500BE72CE0C3C4ACC38BE93DA263E42F91ABE938AF1BCF5C2F23DCE26CBBD6DDEA3BDB55410BEC8C8363E2E1527BE5A7AC63CE4D429BDC66F76BE406D9DBC71365CBE91E517BE69AFE4BC905CBD3C1923EE3D1318E43DFF504CBECF3814BD27D222BE533BAD3D6696C0BD70C0E639C3BBCABC2CF8B2BDDB436B3D3EF3AD3C08B38FBCDB44C8BD063BABBD5CA0AEBD44E357BD82188CBDF3FCEF3D69AA3CBE9632A83D9A2C08BE3ABA783D1BCDF73C6E44A73EA5A4653D5912A53C4044953E068BAA3C8409CFBD0313E0BD9D57F3BC1B713C3E36B28BBC5ED2DC3D9D0BB13CFE007BBD9E020D3E04611ABECAC6C83C6B9DA5BC5D4E893CBA7601BCF0E783BC80DA7C3C40DB303E9748FFBC9290683DDC8ED1BDC9E0053E239B0A3E7D0B97BD3D997E3E1049123C7E25FD3CF3119EBD970D163E876AF2BD949EB3BD4E44ED3C38BDC3BC4C3B23BC86F1393E05AAE63D2244003E032D863CEAC542BE5C330E3EA6032E3D10F6D5BD828EAFBC3EB9923DA7311EBE21314D3D7F0390BD762D3CBDF8DD17BD7EBCDD3D19F0D9BD58A8B03C531C1EBE7A3FABBC8A...\n  %cst_12 = \"std.constant\"() {value = dense<[0.118948802, 0.0594209507, 0.112327635, 0.0810504928, 0.114968762, 0.107718721, 0.0592395887, 0.102804981, 0.106948055, 0.0983427762, 0.0995606407, 0.10045401, 0.100362539, 0.0476368442, 0.088326849, 0.0398068801, 0.0719263479, 0.0914027094, 0.0919913426, 0.133580029, 0.099056825, 0.0876286775, 0.110661007, 0.0312007237, 0.0892127528, 0.0391873382, 0.115070298, 0.0605072752, 0.103909314, 0.0952589065, 0.108063728, 0.11211773, 0.0995015576, 0.0812348499, 0.0903692394, 0.109216169, 0.0973930731, 0.0694628134, 0.104939833, 0.0994110703, 0.0830361545, 0.105651826, 0.123289928, 0.115557194, 0.059186019, 0.116816357, 0.0833007395, 0.103400849, 0.104258277, 0.0977930128]> : tensor<50xf32>} : () -> tensor<50xf32>\n  %cst_13 = \"std.constant\"() {value = dense<[1.0986141, 1.09082341, 1.0746119, 1.05901706, 1.07226694, 1.05524099, 0.986178874, 1.09522033, 1.05758703, 1.08256733, 1.09276378, 1.10951686, 1.06140757, 1.09056449, 1.08776021, 1.01512969, 1.05836546, 1.0915271, 1.10120296, 1.09105027, 1.08122098, 1.07676113, 1.09337008, 1.11115432, 1.05062032, 1.09919357, 1.09154272, 1.05096447, 1.1100204, 1.06594753, 1.09348202, 1.09098601, 1.06808197, 1.08418453, 1.10274065, 1.04652083, 1.07406735, 1.07497764, 1.10424387, 1.06002069, 1.03963566, 1.07293427, 1.1062479, 1.06618786, 1.05226111, 1.07246673, 1.08979595, 1.08214819, 1.09182107, 1.08391273]> : tensor<50xf32>} : () -> tensor<50xf32>\n  %cst_14 = \"std.constant\"() {value = dense<[0.0538439378, -0.00119826873, -0.0521089844, 0.00901668146, -0.0498973206, 0.0848198831, -9.53632349E-4, -0.081766434, 0.0756323337, 0.0590334684, 0.0626079142, -0.0243675504, 0.0655089318, 0.0662027448, 0.0964220687, -0.0202053264, 0.0311301798, 0.0847455412, -0.0711874515, -0.0597959869, 0.0543927401, -0.0277490877, -0.00769935455, -0.00630797353, -0.0818674787, 0.0155747663, 0.105293006, -0.0510924645, 0.0159127619, -0.0491068475, -0.0891767516, -0.10047023, 0.0946094543, 0.0201370884, -0.018021293, -0.0175655503, -0.0553029515, -0.110463649, -0.0841124579, 0.0917200595, -0.086880222, 0.0283186957, 0.0743466467, -0.076607056, -0.0803545713, -0.0635312274, 0.0509962477, -0.0924330205, 0.0796163827, 0.0736192092]> : tensor<50xf32>} : () -> tensor<50xf32>\n  %cst_15 = \"std.constant\"() {value = dense<[0.0911972448, 0.108986676, 0.106324673, 0.0960640683, 0.114174344, 0.124734893, 0.0944271162, 0.119712681, 0.115221545, 0.107450947, 0.0986238569, 0.0884036645, 0.110107057, 0.11261142, 0.124408193, 0.106988691, 0.109849498, 0.0947467982, 0.0979072228, 0.136217266, 0.115165949, 0.111539416, 0.120291144, 0.122830465, 0.114670165, 0.122472934, 0.111189015, 0.0943362191, 0.0885669589, 0.109798871, 0.086693868, 0.127268374, 0.126943827, 0.112478428, 0.119291872, 0.10486304, 0.12799716, 0.104111232, 0.113096811, 0.126824737, 0.114558145, 0.107317962, 0.136117369, 0.114656135, 0.102219202, 0.117192812, 0.114182428, 0.101210207, 0.117026478, 0.0934736058]> : tensor<50xf32>} : () -> tensor<50xf32>\n  %cst_16 = \"std.constant\"() {value = dense<[[0.00818612799], [-0.0915882885], [-0.0233448986], [-0.175113559], [-0.044088386], [0.0135751665], [-0.17977646], [-0.105868809], [-0.0287758466], [0.0373217613], [0.0591363795], [-0.0664675459], [-0.0262850616], [-0.181582227], [0.0447561517], [-0.0617723428], [-0.175026789], [0.0224411301], [0.0315134674], [0.0158430189], [0.0266900733], [-0.207964733], [-0.0100939795], [-0.0923225731], [0.0564010404], [0.211195379], [-0.0507571734], [-0.129094064], [-0.0497736633], [0.0118480902], [0.050791055], [0.0158011038], [0.038969297], [-0.0197411161], [-0.130179837], [-0.0294597633], [0.0158589091], [-0.152301267], [-0.0577128828], [0.0170163605], [0.0643886477], [-0.015232604], [0.0046945815], [0.00588194933], [0.101117074], [-0.0675651431], [-0.0331306085], [0.0281402841], [0.0263780225], [0.0142675117]]> : tensor<50x1xf32>} : () -> tensor<50x1xf32>\n  %cst_17 = \"std.constant\"() {value = dense<[[-0.008972615], [0.0105267065], [0.0177029222], [0.0026615453], [0.0153593309], [-0.0870756506], [-0.0604609586], [-0.0506772622], [0.0158184152], [-0.00511545129], [-0.0109223183], [0.00960212853], [0.017648736], [0.0179514736], [-0.010536842], [-0.0290316846], [-0.0353467092], [0.00304657687], [5.428010e-03], [0.101359993], [0.00391365308], [-0.0152176954], [-0.0289087594], [-0.0518179946], [0.0464038514], [0.0619800575], [0.0353978351], [0.00402889773], [0.00730002765], [0.00308260415], [-0.0106847649], [0.0175059196], [0.0503510647], [-0.0102564488], [0.0106579419], [0.0181485787], [0.0187895596], [-0.0134604704], [-0.010594219], [0.0158911813], [0.0917025656], [-0.00372993574], [0.0365986973], [1.417720e-02], [0.101278305], [0.0144247944], [-0.0458229631], [-0.00851251092], [-0.00407754118], [-0.00925889797]]> : tensor<50x1xf32>} : () -> tensor<50x1xf32>\n  %cst_18 = \"std.constant\"() {value = dense<[[-0.0227809623], [-0.0370417349], [-0.141358882], [-0.0601535626], [0.185794145], [-0.033231955], [0.0718914717], [0.0413620286], [-0.102513641], [-0.0342451893], [-0.0281144474], [-0.123325177], [-0.127776384], [-0.165881529], [-0.0413068831], [0.0355135314], [-0.0470466875], [-0.0401308388], [0.0502179042], [0.0478122719], [-0.0348647498], [0.0289232545], [-0.0193091165], [0.0243785735], [0.0419080928], [0.113905735], [0.0681543425], [0.09650027], [-0.0354379267], [0.0553873777], [0.0276843905], [0.0546463132], [-0.0401588567], [0.0328697301], [0.065973036], [-0.196618587], [0.0221246053], [0.112465359], [0.0223174132], [-0.0470972918], [0.0584409498], [-0.0747007653], [-0.0294873957], [0.139170662], [0.0579220429], [0.0370834917], [0.0612319633], [0.0232369415], [-0.0469689295], [-0.0246317387]]> : tensor<50x1xf32>} : () -> tensor<50x1xf32>\n  %cst_19 = \"std.constant\"() {value = dense<[[-0.118789054], [-0.150531322], [0.105239697], [-0.173643872], [0.160237283], [0.0107928514], [-0.198674187], [0.0154602248], [0.0970707982], [-0.108384632], [-0.115311287], [-0.0935376808], [0.11711859], [-0.0941676795], [0.00812822115], [-0.128967389], [-0.110527478], [-0.190464199], [-0.172638953], [0.0209101569], [0.127490789], [-0.112368338], [-0.19475773], [-0.171315536], [0.0347547121], [0.273828208], [0.227361962], [-0.135758206], [-0.0840675234], [-0.168238491], [-0.167116389], [7.288100e-03], [0.0473411977], [-0.0545123033], [-0.0801371857], [0.147885159], [0.00956721231], [0.060539484], [0.0615430064], [0.00659863884], [0.115876272], [-0.0631224364], [0.0164730027], [-0.177334785], [0.24519752], [0.15712069], [-0.156344488], [-0.137766287], [-0.202563971], [-0.117554381]]> : tensor<50x1xf32>} : () -> tensor<50x1xf32>\n  %cst_20 = \"std.constant\"() {value = dense<\"0xD21A04BCC803C2BBEEFE053E90B784BDD6AB383CF77CEC3D7B77ACBD34A27D3D6E6CCBBD61F20C3DEB8EB23DA98DFA3C98E66E3D9315B53D6CCF57BEF454A2BD34A144BD8109D1BDB144983D98DF38BD2C4D7C3CBD2FC9BD63AD24BCCEE123BD3AA21E3D67C625BDE287053D7B06F53D7DF17EBDC45266BD588E07BEFEC70A3D4FB3133EB0A7A03D54C7B7BD29B9373DE0337DBDC194023D5261C13C3DDC8F3D1184C3BD94F3C33CF1B6F73CDF7C573C130E623B5B46A43C48E1AABD1B0E843D4426083ECF3A943AAB58363E37B3503CCB3721BC5915DC3D0AE8F8BA2E6AF43CD64ADABC66CBA7BCE8E67FBD0732C63DCE7A50BE0B3B243E90138A3D0CF0B93DCB2E76BD50192E3D202178BD80D4393D5CE60A3E3A4C8BBD2EF0C9BDC4E4163C1F9E1A3E76AC353DC431173D3BA69CBDF717C33D33DAF7BD67CAB13DE1C718BE080864BCC136C9BDF1A94F3C2A80A83DFC99073C7F602F3DC58ABCBDBE37513D88FF75BE82BF1D3E21E6DF3C56425F3DBB1A09BEE90D9DBD431C01BE0CC2623DE29FBC3A7EFE853D8E59C73CC0FB4D3E1A0E01BDA821B53D722F6EBC60C3323EBF11D6BCA8ED95BCD5896FBE3AD046BD4BDE4ABE5CF331BC2DA94FBD283D65BC003B433D3D985FBD5E00D2BD3A24833D9B48F93CEA1C55BED3281FBD63BE7ABDFBEB1FBD1F0F083EA94041BD6EC420BD3434F93C7D2CCF3C76840BBDA22371BD6E23603E2AAC313D7AABBFBD44AE133D30B22A3EC185513D16015EBDFC4FF83DE211E93BDA25E13D36728FBD10EA053E7ED08ABD85474ABCE0C7C03DCC710EBECA30DBBC2959CC3B4555A13BBE6B093D05EF17BDB2BF81BDC55BF73D98C938BDD6A8A8BD01F1193CE7F7493EC168E9BC73DC393CC26CF03A9AF770BD76598FBC2F10C63C4DA5C5BCF150163DC699B8BC860EEBBC76606E3E738383BDEC5E26BEEEDD47BB529804BED48A043D6057C4BD1A6290BCFE43083ED92994BD0463FBBDFF7D913C4584C3BD7F31F93D386B45BDDBE4C1BD2C...\n  %cst_21 = \"std.constant\"() {value = dense<\"0x5807E23D0FDB853E585B79BCDB1B33BDDC30FC3D546B733C09AD2FBD28146CBCEC21E3BC0C8F67BD809200BE9F5A17BE8EAEFF3BCBAFDF3DD47ABDBC8C5ED63DBA8BE83CD3DD83BCDC4C2E3EA2A44BBDB6D68A3D198BA73DACA8453D28E350BEFA15B23DECAC47BE2AFD50BDFBE2193DEBC970BD4A3ECA3D0757AABCA13822BE33410E3D8CFB043D94B9143DD5D9AFBDC286BABB3C2CF53D113212BE2A5CAE3D8B2E913D0E660A3D48EA56BD81DEDB3DABBCFC3DAF63A43DD4B301BEB746AFBD61E6AE3C07DD5DBCDA40BABDE784003E7ADF523E358213BDC39080BDB20620BED11811BBFE8EE1BC24FD3EBE0FCB2FBD0D15783BC87C713C9F56EC3C1555C0BC001AB1BA831DC13D8478363D704B89BDC52A17BDCB40B3BC4F6E0D3DBEEAE73D26372FBE1C436BBC0C9E3E3EBB8A1EBEF83F453D0699363D62858BBD68D1063DBCA9613DC772FDBD8ABDFE3D42594F3D1DC328BCB6343DBC9C85093D07DE1CBC52814C3C4D884CBD916118BEB2E6223D390D7BBB8B8BB53C67EEF23D0FAA2B3E370CB33CC4F58FBDA48408BE0A9417BD996C5BBDE5DB0C3E9B9A06BD73F615BCDA2AB6BD0A280ABD744883BCC053403DF80DAEBD137A8FBCF2BE983D6A42DFBCF52812BD3D22C13D0134B8BD90B8993D9AB21D3E276DECBD3F952C3E2D7BD83D562904BE1C200C3EC55A3CBE4EE9A8BD1525ED3D9482F53B97102C3D3C66B83DAFF75B3DBF8C79BD07532FBE688F2D3D06EACD3C3550063EF369D63DF4A790BD148DE23C04FE3C3D6FF149BD35C00C3D71631ABDEFA40D3E75EB18BE2A6B2D3D13A22CBD9789033E0ADAC9BD633F143E69EDC8BC598921BD2EFF933D4169013EAD83283BC3090A3B3D42D73C5A62B03D059B8D3D9CB8073C2C1F8FBDDA64923DC5871F3EA530EC3D58F42A3D18A94E3DA81CBFBD28562C3B9ABBCC3D89B52A3DAB8D423D079939BED8EA9DB9AF70823E712373BD93165ABD3FC4003E1E0A21BE75BAD33DC5E915BE9355343D854D5F3BAED9F4BB61...\n  %cst_22 = \"std.constant\"() {value = dense<\"0x6B28D03C722883BD9D1F01BD7DA2843DE17FC83B0B86B3BD378FB53D5050C83D425F353B258DD8BD146D29BDED427F3DAB8FAF3CB0BC96BD2F820E3EE84A3B3DFF88DB3D5674093DE3C1B3BD8701D93DBCAAD1BDD7E9E13D217C9F3D3BE68FBCDF991FBC12C9A6BD26489B3BB50492BDAA31AFBD23F8B33DAA678C3AA26223BEAF8E90BD45AD9D3C310B1E3D468E4BBD996BB1BD2025903D68E967BD79639C3DE50A82BD7B5306BE256B583B6951933CEF45693D24CBFA3D9CC652BEF4A5B53C7978BEBD624426BDA247C6BCA66E4D3E6694EABC3F0B843D6465A5BD0F6D163E93BF4A3C2BE2173E40C7D83D2EDF29BE16610F3EC9FC90BD85630A3D4F0F37BB0C1B2B3C911085BD521E293BC8BF9CBCA7DA25BE316EF53D9E84323D71B9673D965A3A3BBF30DB3D73C4843D02711BBDECAF08BE56414E3D087ABEBD09E306BD8CF5E5BD86A18FBDDB10A73DBF1235BDF2FCBABC6530FE3B0A5C193C8E6693BD3BA812BE979E80BEA4753F3DE01B46BC07D0843B24EF6E3BAADF323DE3B96BBDD0A8763D37089CBD74AD3DBDF78012BD2CD2053EE5BE843D90F7C93D7AC04EBD16337E396813F0BB824344BB74EAE23BBEA5273D528AC13CF1A2033DF6A2483D1BDFAE3D66C9B03D5E463DBCF20B6EBD8555CCBCD31501BE4185C2BDD9BDB6BC0C71B9BB7F64FC3D2A9335BD884172BDDCF1BE3D055D343D8ED77E3D1A1922BD6415DB3B4BFCEA3DE48F183D6A63A6BB30B30B3DA1009C3D58D91A3D80EED83D5B0C803C41D70B3DEBB2643DE0A804BC20C0F1BBFF57E73DB247F1BC3B4BB8BDA363383D47731F3D3C040B3EB43B6D3D2557BB3D20A37FBD418F65BD622548BECBDD4DBEF78DEB3DAB83E73C549B10BD8FE122BDFB1EE4BD1FADDA3D7A7CB43CAD35733DF27361BEEE6EFBBD88571ABD08183D3D1D00163E5074223E358CBB3C9A31E33C5D7736BD192683BD360D0DBEABB4B1BDD298463D4165123C1152493CD9E51E3E45DF03BC1399133EEB39783D1877AD3DF6...\n  %cst_23 = \"std.constant\"() {value = dense<\"0xC190E13A9DFAE63DD537ACBC197010BED75B4DBE952F143E5BE89EBCC36B0F3ED7E9DBBDE46CC9BD5CF5263ED8561C3E16AD4C3E3666873BBAB84DBD6EDAB0BDFC6E593DF2EB8EBD62901B3E66F5AC3CC335303EB594843EB9ACBABD4EECC3BC62692A3E74B088BEF27EB2BC3638243D8A5DAC3D10DB613E6A1C3ABE9F5DCCBCB519E43D4D776B3E9F70E2BC546E3A3EE8D3283EEA82D8BD328E60BE46FBA6BDCE43FA3C78906CBDD014373E66C9E53DD8479D3BBF09CD3D0FCD97BCC326DDBC2B1FC13D936A35BEF54ACE3C0321753D99259A3D893200BD981408BD363C08BD910F813DDBE0023E1D60D7BDB6F8C9BD0293B0BDD458D7BDA8B3163E154F2ABCEC2595BD31B301BDD358E93D6B48023E8CEE0D3E7C1F19BDEBD5973D06C8683D285696BDFED72F3CDD20C73DF6F85DBDA0A1AABCBE6C01BE52CEB93D25690F3D30CA11BC5B70153AEB1F6CBD303098BC39BE8DBDC668A93DD4B291BDC5C9D63C7679B0BDAE9DB13D8425A0BD140D2E3D2B34D7BCAF0B8FBC5F9F5D3C714DC8BDB30165BEDE3CCD3D40696E3DDF2882BD9071293BC5E1B63D460884BA69A800BE6A4C68BD649D893E0C7DD0BD4741113D52E0393C44D6353C545C1E3E5284C63D7C0DC5BDB0F80A3E561F09BDAA64E33DC0C194BDC4FFCB3DB1C7A13D03367C3D1D5BE8BC138617BD0CC2EC3C2C30FFBD85C6353D1F4E9FBD4AD2043D0A9A05BC7479D93D36311B3D4AA4DA3B40918ABC0CE1A1BC71799DBDE556323DE052F03DD2191BBD9869ED3DF23E86BB5156F83CDAF7183DFC034F3D70428E3D74D578BD5F02D5BDACB5983D8C64A9BB53C3653D1C70DE3DC46071BD2928193EF8C73A3E7D32A63C11F3BCBDF7D3923DDACE66BD1B7D3C3DA5C95A3D7213A2BD43D64CBB1815813D7DA4873DC736A23D92ECEC3DC6724CBD6288B5BDC460693D4091A7BD219356BD4845B43D24FA9BBD23DF2A3DFF2D7ABDAF853CBE5E6FA7BD995F1ABE869BDDBC64D71ABDDC12FABC391389BB7E15C3BDC5...\n  %cst_24 = \"std.constant\"() {value = dense<[0.0385252535, 0.0919528603, 0.0930301398, 0.0793817713, -0.00610548723, 0.1072945, 0.105855145, 0.0912485197, 0.074915871, 0.0729396045, 0.094424121, 0.0896379873, 0.10206788, 0.100246951, 0.0986221283, 0.0161944814, 0.0294561628, 0.100138724, 0.0650681481, 0.10835766, 0.0782021507, 0.0886388421, 0.0991026312, 0.0982290729, 0.0885071754, 0.0768193156, 0.0963935926, 0.0229044333, 0.109834775, 0.0955452174, 0.104672104, 0.0968332216, 0.0631101206, 0.0747872517, 0.0955374092, 0.0823748111, 0.0377593935, 0.0087065231, 0.0838861092, 4.861930e-02, 0.0863550454, 0.0481495149, 0.0928135141, 0.114136897, 0.101931386, 0.0352602042, 0.0942670852, 0.110082865, 0.0701992288, 0.0964862555]> : tensor<50xf32>} : () -> tensor<50xf32>\n  %cst_25 = \"std.constant\"() {value = dense<[1.11973608, 1.07384276, 1.04421484, 1.06934941, 1.03786671, 1.07370472, 1.06424272, 1.05851364, 1.08160436, 1.00495303, 0.995654404, 1.086270e+00, 1.06865394, 1.09881091, 1.09596646, 1.03887606, 1.01958644, 1.04396498, 1.05683815, 1.04761875, 1.02713048, 1.08004928, 1.05154812, 1.05144155, 1.06337965, 1.07995737, 1.0900861, 1.03099811, 1.05711782, 1.05809069, 1.09585178, 1.1098789, 1.09598219, 1.07533956, 1.04278493, 1.04308426, 1.03601766, 1.03216743, 1.07169616, 1.04925752, 1.08217931, 1.00862765, 1.08704376, 1.09514213, 1.06098521, 1.10285544, 1.06197679, 0.997227728, 1.00807667, 1.06656396]> : tensor<50xf32>} : () -> tensor<50xf32>\n  %cst_26 = \"std.constant\"() {value = dense<[-0.00256196875, -0.0195972677, 0.0272423532, -0.0221462622, -0.0474788696, 0.0262373574, -0.0100249145, 7.061920e-02, -0.008647006, -0.0774091556, 0.0898322984, 0.0750894919, 0.0120067056, 0.0895057544, -0.0369343944, -0.0554357655, -0.0329123028, 0.0653700382, 0.0416060202, 0.0649884269, 0.0783089175, 8.373730e-02, -0.0855407268, -0.00810862146, 0.0762974321, -0.0574267097, 0.00878048781, 5.369750e-02, 0.0113557111, 0.102378018, -0.0388481319, 0.059581127, 0.0283251163, 0.0856564715, -0.0546750054, 0.0701800585, 0.0566003434, -0.0568379462, -0.00314413174, -0.041054517, -0.0203147233, -0.0260091629, 0.0907083079, 0.0252957661, 0.0191341322, 0.095912382, 0.0484596975, -0.0637877062, 0.0768638253, -0.0779313594]> : tensor<50xf32>} : () -> tensor<50xf32>\n  %cst_27 = \"std.constant\"() {value = dense<[0.122182965, 0.0762969851, 0.0633910894, 0.0457588658, 0.086156331, 0.0631068349, 0.0629495382, 0.116088487, 0.0578842387, 0.113869362, 0.0614027902, 0.0783151686, 0.0695887357, 0.085233815, 0.103950717, 0.0490449592, 0.0899416655, 0.109323345, 0.0878217071, 0.122022115, 0.108919211, 0.094682753, 0.116173774, 0.0776174515, 0.0513077155, 0.0712187067, 0.0776112675, 0.100603059, 0.102148674, 0.121780641, 0.0648362041, 0.107180469, 0.052722428, 0.0912667513, 0.065190807, 0.115827061, 0.114818417, 0.0795794874, 0.0790686681, 0.105933711, 0.0624012984, 0.110954665, 0.086871691, 0.109725662, 0.0588492863, 0.0676702037, 0.125739813, 0.126566827, 0.123788945, 0.115322739]> : tensor<50xf32>} : () -> tensor<50xf32>\n  %cst_28 = \"std.constant\"() {value = dense<[[0.178224161], [-0.0656869262], [-0.0183427632], [0.0141707249], [0.114808142], [-0.00802518893], [-0.0213030446], [0.0132051418], [-0.101445153], [0.0267164707], [0.0880010873], [0.0733811334], [0.0198560096], [0.0819314792], [-0.124124669], [0.0635395199], [-0.187418878], [-0.0520590693], [-0.149822161], [0.0150387818], [0.0100812893], [-0.169342235], [0.0395837799], [-0.0270073786], [-0.213698149], [-0.104615383], [-0.0310258772], [0.0799130722], [-0.0187005177], [0.0423375219], [0.0043713348], [0.0680897235], [-0.024121508], [-0.0475225896], [-0.0174701661], [0.0152270142], [0.0419395491], [0.0802237242], [-0.0542263798], [0.0678651407], [-0.088202171], [0.0494968481], [0.0334197134], [-0.00613475777], [-0.0230992604], [-0.232102334], [0.0965574309], [0.011525888], [0.0734077618], [0.0185839497]]> : tensor<50x1xf32>} : () -> tensor<50x1xf32>\n  %cst_29 = \"std.constant\"() {value = dense<[[0.00181107013], [0.016922133], [0.0158239044], [0.00645201466], [0.0558935031], [-0.127782077], [0.017376326], [2.798500e-03], [0.0129403546], [-0.00253190729], [-0.23307085], [-0.0966821834], [-0.099169895], [-0.147935122], [-0.0929830893], [0.0472261421], [-0.0164885987], [-0.0640415773], [0.00750430254], [0.0141807497], [-9.39268502E-4], [-0.0924244895], [-0.106891423], [0.0152369747], [-0.0266191103], [1.265640e-02], [0.0110388491], [0.0461685807], [0.0255956389], [-0.125689223], [0.00427227933], [-3.053200e-03], [0.0108599234], [-0.0747064501], [0.0218505915], [0.00296667079], [0.0526954569], [0.0512688719], [-0.0629580691], [0.0318550617], [0.0129381362], [0.0151974009], [2.15620967E-5], [0.00623312033], [0.0148870805], [0.00527068041], [0.0897306129], [0.00250982819], [-0.23655574], [-9.969010e-02]]> : tensor<50x1xf32>} : () -> tensor<50x1xf32>\n  %cst_30 = \"std.constant\"() {value = dense<[[0.176361114], [-0.0276478175], [-0.085851565], [0.0299187601], [0.0653374493], [5.9792574E-4], [-0.110771313], [-6.393330e-02], [0.0242491197], [0.0898427292], [-0.0566177219], [-0.0281213075], [-0.00192800805], [-0.0335888639], [-0.0120664462], [0.0854526609], [-0.0818251594], [0.0325966552], [-0.1689969], [-0.0588883534], [-0.122249581], [-0.111736014], [0.031505879], [0.0963751152], [-0.13048394], [0.151258156], [0.0394197442], [-0.0610318966], [0.212750077], [-0.0967476665], [0.0653723404], [-0.0406590663], [-7.096330e-02], [-0.0297530238], [0.062044274], [-0.0381052792], [-0.102309711], [0.0503750145], [2.478990e-02], [0.0577259324], [0.111129217], [0.0315307751], [-0.0269995276], [-0.136880964], [-0.0731287599], [-0.144794881], [-0.0175896157], [0.135368168], [-0.0488352068], [0.094606474]]> : tensor<50x1xf32>} : () -> tensor<50x1xf32>\n  %cst_31 = \"std.constant\"() {value = dense<[[0.0915109589], [-0.126088977], [0.114589803], [0.243224874], [0.0362951495], [-0.234018043], [0.231250063], [0.0104730502], [-0.123739034], [0.0166239422], [-0.182811975], [-0.162465811], [-0.179659054], [-0.100098506], [-0.0676029622], [0.207581699], [-0.181941733], [-0.163295701], [-0.121368602], [0.00419439562], [0.0337850302], [-0.022935221], [0.0128512774], [0.179208621], [-0.184828356], [-0.112556174], [-0.081688784], [0.0302210059], [0.154478252], [0.0113835838], [-0.197089747], [-0.138782606], [-0.114823818], [0.108554922], [0.176065266], [0.0141622433], [0.0211071651], [0.0522131771], [-0.119490489], [0.0203881264], [-0.0858941897], [0.0415024869], [-0.148191497], [0.0902152284], [0.199486688], [-0.159429878], [0.166835636], [0.00771739427], [0.0156993736], [0.0205142908]]> : tensor<50x1xf32>} : () -> tensor<50x1xf32>\n  %cst_32 = \"std.constant\"() {value = dense<\"0xF7AA37BC9CB2723CE29BAE3C458A16BDB23BF6BC926D703C3BD5A33C711A2F3D4FC6FCBC0ECB31BDC0CD303C3024A33C1A909E3CD5A7AA3C3FC02C3D3206D4BC6A94F83C9E45E9BC3BB5B63C0910583D613C243DD0DB873CD15258BDE8ACAA3B98893E3CA23D41BC3CE229BD1DC63B3D253BEC3BECC9BF3C3E4653BC64AFDB3CE2FD833CA513EE3BF624DBBC9098E93C20C0043DD5C421BDD5DD4EBCBA1E56BD244D59BCD62109BD80D1873C1DEE933CC2AA5B3C8E91AD3C5ECB013D80FCABBCFFB5AD3CA2B8FCBC5609F5BBFE6AC33B0BD9913C9AEBB43CFFBDB33C7E40873C661FCDBCF02841BCF93B913BBCBB593C121AF5BBE110CD3C743B55BBF8F15A3CF4D0C8BB36CA78BC7F618F3BBF3529BB80EC90BBF2DA0DBD3AB790BCD753B03BBA443BBC3A57DD3CD4C7993B2EAC9DBCA42D003CC692ACBC88692E3CAA1A6BBB9E1C013C5C61B8BC9EC3A03C88A9DC3A08F782BBB4B9C9BB6F308ABBE041263BAFBA0A3C229F773C3A751EBB50CC243AF491433D7F4B85BB144F4B3C3A49C23C51DADFBC3014B938AC8C4BBC98EFA23BDCBC94BB16277A3BBD7D5B3C3CE734BC0B4816BDD6AEB43CC84D953C3B2BE63C2A28EBBC540821BD0A035C3A168F633A4C03973C7463073D9A53203D2F2808BDE5ADAD3C3B1466BC51AE4F3CA2A3093D72BD0C3D468F703C78B81BBD8DCFCBBBCE6B31BB8C203DBCFCBC02BC4E48983C7ABB97BC0158AA3C27CF80BCA9257D3CF085733CACA7CC3C388A95BC0271473DFB54FD3C005B3DBD45AF80BC946347BDAD040FBCF37804BD5644773C6221F83C514C9B3C48D1A03CE3E5473D905E25BD50D9123DD89A2BBCAB86923C84F655BA313A9E3CD077893B172DA03AFB060ABCF41B8CBC364D9EBB1EBDDD3C6333CC3B60AC3A3A36C7953C7136073DF0EC3B3C221B39BC1AC853BB6A5A2FBCCC738739D8BC963B10D83CBD8AFE983AE311B63C00EA373C562DBC3C40FB1FBA8A54D3BCA36438BC0C3B5FBC3B86A43C303305BB447C11BCA2...\n  %cst_33 = \"std.constant\"() {value = dense<0.304437459> : tensor<1x1xf32>} : () -> tensor<1x1xf32>\n  %cst_34 = \"std.constant\"() {value = dense<0> : tensor<1xi32>} : () -> tensor<1xi32>\n  %cst_35 = \"std.constant\"() {value = dense<1> : tensor<1xi32>} : () -> tensor<1xi32>\n  %0 = \"tfl.shape\"(%arg0) : (tensor<?x250x1xf32>) -> tensor<3xi32>\n  %1 = \"tfl.strided_slice\"(%0, %cst_34, %cst_35, %cst_35) {begin_mask = 0 : i32, ellipsis_mask = 0 : i32, end_mask = 0 : i32, new_axis_mask = 0 : i32, shrink_axis_mask = 1 : i32} : (tensor<3xi32>, tensor<1xi32>, tensor<1xi32>, tensor<1xi32>) -> tensor<i32>\n  %2 = \"tfl.pack\"(%1, %cst_3) {axis = 0 : i32, values_count = 2 : i32} : (tensor<i32>, tensor<i32>) -> tensor<2xi32>\n  %3 = \"tfl.fill\"(%2, %cst_1) : (tensor<2xi32>, tensor<f32>) -> tensor<?x50xf32>\n  %4 = \"tfl.reverse_v2\"(%arg0, %cst_35) : (tensor<?x250x1xf32>, tensor<1xi32>) -> tensor<?x250x1xf32>\n  %5 = \"tfl.unidirectional_sequence_lstm\"(%4, %cst_16, %cst_17, %cst_18, %cst_19, %cst_8, %cst_9, %cst_10, %cst_11, %cst_7, %cst_7, %cst_7, %cst_12, %cst_13, %cst_14, %cst_15, %cst_7, %cst_7, %3, %3, %cst_7, %cst_7, %cst_7, %cst_7) {cell_clip = 1.000000e+01 : f32, fused_activation_function = \"TANH\", proj_clip = 0.000000e+00 : f32, time_major = false} : (tensor<?x250x1xf32>, tensor<50x1xf32>, tensor<50x1xf32>, tensor<50x1xf32>, tensor<50x1xf32>, tensor<50x50xf32>, tensor<50x50xf32>, tensor<50x50xf32>, tensor<50x50xf32>, none, none, none, tensor<50xf32>, tensor<50xf32>, tensor<50xf32>, tensor<50xf32>, none, none, tensor<?x50xf32>, tensor<?x50xf32>, none, none, none, none) -> tensor<?x250x50xf32>\n  %6 = \"tfl.reverse_v2\"(%5, %cst_35) : (tensor<?x250x50xf32>, tensor<1xi32>) -> tensor<?x250x50xf32>\n  %7 = \"tfl.unidirectional_sequence_lstm\"(%arg0, %cst_28, %cst_29, %cst_30, %cst_31, %cst_20, %cst_21, %cst_22, %cst_23, %cst_7, %cst_7, %cst_7, %cst_24, %cst_25, %cst_26, %cst_27, %cst_7, %cst_7, %3, %3, %cst_7, %cst_7, %cst_7, %cst_7) {cell_clip = 1.000000e+01 : f32, fused_activation_function = \"TANH\", proj_clip = 0.000000e+00 : f32, time_major = false} : (tensor<?x250x1xf32>, tensor<50x1xf32>, tensor<50x1xf32>, tensor<50x1xf32>, tensor<50x1xf32>, tensor<50x50xf32>, tensor<50x50xf32>, tensor<50x50xf32>, tensor<50x50xf32>, none, none, none, tensor<50xf32>, tensor<50xf32>, tensor<50xf32>, tensor<50xf32>, none, none, tensor<?x50xf32>, tensor<?x50xf32>, none, none, none, none) -> tensor<?x250x50xf32>\n  %8 = \"tfl.concatenation\"(%7, %6) {axis = 2 : i32, fused_activation_function = \"NONE\"} : (tensor<?x250x50xf32>, tensor<?x250x50xf32>) -> tensor<?x250x100xf32>\n  %9 = \"tfl.reshape\"(%8, %cst_2) : (tensor<?x250x100xf32>, tensor<2xi32>) -> tensor<?x25000xf32>\n  %10 = \"tfl.fully_connected\"(%9, %cst_32, %cst_0) {fused_activation_function = \"NONE\", keep_num_dims = false, weights_format = \"DEFAULT\"} : (tensor<?x25000xf32>, tensor<50x25000xf32>, tensor<50xf32>) -> tensor<?x50xf32>\n  %11 = \"tfl.reshape\"(%10, %cst_5) : (tensor<?x50xf32>, tensor<2xi32>) -> tensor<?x1xf32>\n  %12 = \"tfl.fully_connected\"(%11, %cst_33, %cst) {fused_activation_function = \"NONE\", keep_num_dims = false, weights_format = \"DEFAULT\"} : (tensor<?x1xf32>, tensor<1x1xf32>, tensor<1xf32>) -> tensor<?x1xf32>\n  %13 = \"tfl.reshape\"(%12, %cst_6) : (tensor<?x1xf32>, tensor<3xi32>) -> tensor<?x50x1xf32>\n  %14 = \"tfl.shape\"(%13) : (tensor<?x50x1xf32>) -> tensor<3xi32>\n  %15 = \"tfl.strided_slice\"(%14, %cst_34, %cst_35, %cst_35) {begin_mask = 0 : i32, ellipsis_mask = 0 : i32, end_mask = 0 : i32, new_axis_mask = 0 : i32, shrink_axis_mask = 1 : i32} : (tensor<3xi32>, tensor<1xi32>, tensor<1xi32>, tensor<1xi32>) -> tensor<i32>\n  %16 = \"tfl.pack\"(%15, %cst_3, %cst_4) {axis = 0 : i32, values_count = 3 : i32} : (tensor<i32>, tensor<i32>, tensor<i32>) -> tensor<3xi32>\n  %17 = \"tfl.reshape\"(%12, %16) : (tensor<?x1xf32>, tensor<3xi32>) -> tensor<?x50x1xf32>\n  \"std.return\"(%17) : (tensor<?x50x1xf32>) -> ()\n}) {arg0 = {tf_saved_model.index_path = [\"inputs\"]}, result0 = {tf_saved_model.index_path = [\"om\"]}, sym_name = \"serving_default\", tf.entry_function = {control_outputs = \"\", inputs = \"serving_default_inputs:0\", outputs = \"StatefulPartitionedCall:0\"}, tf_saved_model.exported_names = [\"serving_default\"], type = (tensor<?x250x1xf32>) -> tensor<?x50x1xf32>} : () -> ()\n"
          ]
        }
      ]
    }
  ]
}